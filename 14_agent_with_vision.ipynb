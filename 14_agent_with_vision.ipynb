{
 "cells": [
  {
   "cell_type": "markdown",
   "metadata": {},
   "source": [
    "# 🦜🔗 LangChain React Agent with GPT-4 Vision  \n",
    "\n",
    "Since the Vision Model is not integrated into azure yet, this relies on the official openai api\n"
   ]
  },
  {
   "cell_type": "code",
   "execution_count": 1,
   "metadata": {},
   "outputs": [
    {
     "name": "stdout",
     "output_type": "stream",
     "text": [
      "Requirement already satisfied: dbticketspy in /home/johann/anaconda3/envs/langchain_agents/lib/python3.11/site-packages (0.2.0)\n",
      "Requirement already satisfied: requests in /home/johann/anaconda3/envs/langchain_agents/lib/python3.11/site-packages (from dbticketspy) (2.31.0)\n",
      "Requirement already satisfied: charset-normalizer<4,>=2 in /home/johann/anaconda3/envs/langchain_agents/lib/python3.11/site-packages (from requests->dbticketspy) (3.3.2)\n",
      "Requirement already satisfied: idna<4,>=2.5 in /home/johann/anaconda3/envs/langchain_agents/lib/python3.11/site-packages (from requests->dbticketspy) (3.6)\n",
      "Requirement already satisfied: urllib3<3,>=1.21.1 in /home/johann/anaconda3/envs/langchain_agents/lib/python3.11/site-packages (from requests->dbticketspy) (2.1.0)\n",
      "Requirement already satisfied: certifi>=2017.4.17 in /home/johann/anaconda3/envs/langchain_agents/lib/python3.11/site-packages (from requests->dbticketspy) (2023.11.17)\n",
      "Note: you may need to restart the kernel to use updated packages.\n"
     ]
    }
   ],
   "source": [
    "%pip install dbticketspy\n"
   ]
  },
  {
   "cell_type": "code",
   "execution_count": 12,
   "metadata": {},
   "outputs": [],
   "source": [
    "import base64\n",
    "import requests\n",
    "from openai import OpenAI\n",
    "import os\n",
    "from langchain import hub\n",
    "from langchain.chat_models import AzureChatOpenAI\n",
    "from langchain.agents import AgentType, initialize_agent\n",
    "from langchain.tools import StructuredTool\n",
    "from langchain.tools import StructuredTool\n",
    "from langchain.tools.render import render_text_description\n",
    "from langchain.agents.output_parsers import ReActSingleInputOutputParser\n",
    "from langchain.agents.format_scratchpad import format_log_to_str\n",
    "from langchain import hub\n",
    "from dbticketspy.tickets import query_ticket\n",
    "\n"
   ]
  },
  {
   "cell_type": "code",
   "execution_count": 13,
   "metadata": {},
   "outputs": [],
   "source": [
    "openai_client = OpenAI(api_key = os.environ[\"OPENAI_API_KEY\"])\n",
    "def analyze_ticket(url: str, question:str )-> str:\n",
    "  \"\"\"Reads information from a ticket and answers the question\"\"\"\n",
    "  image = requests.get(url)\n",
    "  base64_image = base64.b64encode(image.content).decode(\"utf-8\")\n",
    "\n",
    "  response = openai_client.chat.completions.create(\n",
    "    model = \"gpt-4-vision-preview\",\n",
    "    messages= [\n",
    "      {\n",
    "        \"role\": \"user\",\n",
    "        \"content\": [\n",
    "          {\n",
    "            \"type\": \"text\",\n",
    "            \"text\": f\"{question}\"\n",
    "          },\n",
    "          {\n",
    "            \"type\": \"image_url\",\n",
    "            \"image_url\": {\n",
    "              \"url\": f\"data:image/jpeg;base64,{base64_image}\"\n",
    "            }\n",
    "          }\n",
    "        ]\n",
    "      }\n",
    "    ],\n",
    "    max_tokens=1000,\n",
    "  )\n",
    "  return response.choices[0].message.content\n",
    "\n",
    "\n",
    "read_ticket = StructuredTool.from_function(analyze_ticket)\n",
    "\n",
    "def get_data(ticket:str, name: str) -> str:\n",
    "  \"\"\"Gets ticket data for a given ticket and name\"\"\"\n",
    "  ticket_data = query_ticket(ticket, name)\n",
    "  return ticket_data\n",
    "\n",
    "get_ticket_data = StructuredTool.from_function(get_data)"
   ]
  },
  {
   "cell_type": "code",
   "execution_count": 14,
   "metadata": {},
   "outputs": [
    {
     "name": "stdout",
     "output_type": "stream",
     "text": [
      "\n",
      "\n",
      "\u001b[1m> Entering new AgentExecutor chain...\u001b[0m\n",
      "\u001b[32;1m\u001b[1;3mThought: The user is asking when they need to be at the train station. I can use the analyze_ticket tool to read the information from the ticket and answer the question.\n",
      "Action:\n",
      "```\n",
      "{\n",
      "  \"action\": \"analyze_ticket\",\n",
      "  \"action_input\": {\n",
      "    \"url\": \"https://bit.ly/bahnticketdemo\",\n",
      "    \"question\": \"Wann muss ich am Bahnhof sein?\"\n",
      "  }\n",
      "}\n",
      "```\u001b[0m\n",
      "Observation: \u001b[36;1m\u001b[1;3mSie sollten am 23. November 2023 am Bahnhof Nürnberg Hbf spätestens um 17:56 Uhr sein, da laut Ihrem Online-Ticket Ihr ICE 1711 um diese Zeit abfährt. Es ist jedoch immer ratsam, etwas früher am Bahnhof zu sein, um genügend Zeit für eventuelle Warteschlangen beim Einsteigen oder unvorhergesehene Verzögerungen zu haben.\u001b[0m\n",
      "Thought:\u001b[32;1m\u001b[1;3mThe tool has provided a detailed response, indicating the date and time the user should be at the train station. It also gives additional advice about arriving early to account for potential delays or queues. I can now provide this information to the user. \n",
      "Action:\n",
      "```\n",
      "{\n",
      "  \"action\": \"Final Answer\",\n",
      "  \"action_input\": \"Sie sollten am 23. November 2023 am Bahnhof Nürnberg Hbf spätestens um 17:56 Uhr sein, da laut Ihrem Online-Ticket Ihr ICE 1711 um diese Zeit abfährt. Es ist jedoch immer ratsam, etwas früher am Bahnhof zu sein, um genügend Zeit für eventuelle Warteschlangen beim Einsteigen oder unvorhergesehene Verzögerungen zu haben.\"\n",
      "}\n",
      "```\u001b[0m\n",
      "\n",
      "\u001b[1m> Finished chain.\u001b[0m\n"
     ]
    },
    {
     "data": {
      "text/plain": [
       "'Sie sollten am 23. November 2023 am Bahnhof Nürnberg Hbf spätestens um 17:56 Uhr sein, da laut Ihrem Online-Ticket Ihr ICE 1711 um diese Zeit abfährt. Es ist jedoch immer ratsam, etwas früher am Bahnhof zu sein, um genügend Zeit für eventuelle Warteschlangen beim Einsteigen oder unvorhergesehene Verzögerungen zu haben.'"
      ]
     },
     "execution_count": 14,
     "metadata": {},
     "output_type": "execute_result"
    }
   ],
   "source": [
    "tools = [read_ticket, get_ticket_data]\n",
    "llm=AzureChatOpenAI(deployment_name=\"gpt-4\", \n",
    "                       api_version=\"2023-07-01-preview\",\n",
    "                       temperature=0)\n",
    "\n",
    "# Structured tools are compatible with the STRUCTURED_CHAT_ZERO_SHOT_REACT_DESCRIPTION agent type.\n",
    "agent_executor = initialize_agent(\n",
    "    tools,\n",
    "    llm,\n",
    "    agent=AgentType.STRUCTURED_CHAT_ZERO_SHOT_REACT_DESCRIPTION,\n",
    "    verbose=True,\n",
    ")\n",
    "\n",
    "agent_executor.invoke({\"input\": \"Mein Ticket ist hier: https://bit.ly/bahnticketdemo. Wann muss ich am Bahnhof sein?\"})[\"output\"]\n",
    "\n"
   ]
  },
  {
   "cell_type": "code",
   "execution_count": null,
   "metadata": {},
   "outputs": [],
   "source": [
    "url=\"http://bit.ly/bahnticketdemo\","
   ]
  }
 ],
 "metadata": {
  "kernelspec": {
   "display_name": "langchain_agents",
   "language": "python",
   "name": "python3"
  },
  "language_info": {
   "codemirror_mode": {
    "name": "ipython",
    "version": 3
   },
   "file_extension": ".py",
   "mimetype": "text/x-python",
   "name": "python",
   "nbconvert_exporter": "python",
   "pygments_lexer": "ipython3",
   "version": "3.11.5"
  }
 },
 "nbformat": 4,
 "nbformat_minor": 2
}
