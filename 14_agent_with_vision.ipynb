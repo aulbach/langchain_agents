{
 "cells": [
  {
   "cell_type": "markdown",
   "metadata": {},
   "source": [
    "# 🦜🔗 LangChain React Agent with GPT-4 Vision  \n",
    "\n",
    "Since the Vision Model is not integrated into azure yet, this relies on the official openai api. "
   ]
  },
  {
   "cell_type": "code",
   "execution_count": null,
   "metadata": {},
   "outputs": [],
   "source": [
    "%pip install dbticketspy"
   ]
  },
  {
   "cell_type": "code",
   "execution_count": null,
   "metadata": {},
   "outputs": [],
   "source": [
    "import os\n",
    "import base64\n",
    "import requests\n",
    "from openai import OpenAI\n",
    "from langchain.chat_models import AzureChatOpenAI\n",
    "from langchain.agents import AgentType, initialize_agent\n",
    "from langchain.tools import StructuredTool\n",
    "from dbticketspy.tickets import query_ticket\n",
    "from dotenv import load_dotenv\n",
    "\n",
    "load_dotenv()"
   ]
  },
  {
   "cell_type": "code",
   "execution_count": null,
   "metadata": {},
   "outputs": [],
   "source": [
    "##TODO rebuild like this, with or without langgraph, maybe just with lcel\n",
    "llm = ChatOpenAI(streaming=True, model=\"gpt-4-vision-preview\", max_tokens=1024)\n",
    "chain = llm | StrOutputParser()\n",
    "\n",
    "from langchain_core.messages import HumanMessage\n",
    "message =  HumanMessage(\n",
    "  content =  [\n",
    "    {\n",
    "      \"type\": \"text\",\n",
    "      \"text\": \"What's in this image?\",\n",
    "    },\n",
    "    {\n",
    "      \"type\": \"image_url\",\n",
    "      \"image_url\": {\n",
    "        \"url\": \"https://joscha.com/data/media/cartoons/130608.png\",\n",
    "      },\n",
    "    },\n",
    "  ],\n",
    ")"
   ]
  },
  {
   "cell_type": "code",
   "execution_count": null,
   "metadata": {},
   "outputs": [],
   "source": [
    "# create image generator\n",
    "# Needed if you would like to display images in the notebook\n",
    "#%pip install --upgrade --quiet  opencv-python scikit-image\n",
    "from langchain.chains import LLMChain\n",
    "from langchain.prompts import PromptTemplate\n",
    "from langchain_community.utilities.dalle_image_generator import DallEAPIWrapper\n",
    "from langchain_openai import ChatOpenAI\n",
    "\n",
    "llm = ChatOpenAI(temperature=0.9)\n",
    "prompt = PromptTemplate(\n",
    "    input_variables=[\"image_desc\"],\n",
    "    template=\"Generate a short prompt to generate an image based on the following description: {image_desc}\",\n",
    ")\n",
    "chain = prompt | llm\n",
    "instruction = chain.invoke({\"image_desc\":\"halloween night at a haunted museum\"}).content\n",
    "print(instruction)\n",
    "image_url = DallEAPIWrapper(model=\"dall-e-2\", size=\"256x256\").run(instruction)\n",
    "print(str(image_url))\n",
    "\n",
    "# as agent\n",
    "# from langchain.agents import initialize_agent, load_tools\n",
    "\n",
    "# tools = load_tools([\"dalle-image-generator\"])\n",
    "# agent = initialize_agent(tools, llm, agent=\"zero-shot-react-description\", verbose=True)\n",
    "# output = agent.run(\"Create an image of a halloween night at a haunted museum\")\n"
   ]
  },
  {
   "cell_type": "code",
   "execution_count": null,
   "metadata": {},
   "outputs": [],
   "source": [
    "# create two tools: one for reading the ticket and one for validating it\n",
    "# the tools are created from functions that take the same arguments as the tool\n",
    "openai_client = OpenAI(api_key = os.environ[\"OPENAI_API_KEY\"])\n",
    "def analyze_ticket(url: str, question:str )-> str:\n",
    "  \"\"\"Reads information, like ticket number and last name from a ticket and answers the question\"\"\"\n",
    "  image = requests.get(url)\n",
    "  base64_image = base64.b64encode(image.content).decode(\"utf-8\")\n",
    "\n",
    "  response = openai_client.chat.completions.create(\n",
    "    model = \"gpt-4-vision-preview\",\n",
    "    messages= [\n",
    "      {\n",
    "        \"role\": \"user\",\n",
    "        \"content\": [\n",
    "          {\n",
    "            \"type\": \"text\",\n",
    "            \"text\": f\"{question}\"\n",
    "          },\n",
    "          {\n",
    "            \"type\": \"image_url\",\n",
    "            \"image_url\": {\n",
    "              \"url\": f\"data:image/jpeg;base64,{base64_image}\"\n",
    "            }\n",
    "          }\n",
    "        ]\n",
    "      }\n",
    "    ],\n",
    "    max_tokens=1000,\n",
    "  )\n",
    "  return response.choices[0].message.content\n",
    "\n",
    "\n",
    "read_ticket = StructuredTool.from_function(analyze_ticket)\n",
    "\n",
    "def validate_ticket(ticket:str, lastname: str) -> str:\n",
    "  \"\"\"validates a ticket against a ticket number and the last name\"\"\"\n",
    "  ticket_data = query_ticket(ticket, lastname)\n",
    "  return ticket_data\n",
    "\n",
    "validator = StructuredTool.from_function(validate_ticket)"
   ]
  },
  {
   "cell_type": "code",
   "execution_count": null,
   "metadata": {},
   "outputs": [],
   "source": [
    "# create an agent using these tools\n",
    "tools = [read_ticket, validator]\n",
    "llm=AzureChatOpenAI(deployment_name=\"gpt-4\",\n",
    "                       api_version=\"2023-07-01-preview\",\n",
    "                       temperature=0)\n",
    "\n",
    "# Structured tools are compatible with the STRUCTURED_CHAT_ZERO_SHOT_REACT_DESCRIPTION agent type.\n",
    "agent_executor = initialize_agent(\n",
    "    tools,\n",
    "    llm,\n",
    "    agent=AgentType.STRUCTURED_CHAT_ZERO_SHOT_REACT_DESCRIPTION,\n",
    "    verbose=True,\n",
    ")"
   ]
  },
  {
   "cell_type": "code",
   "execution_count": null,
   "metadata": {},
   "outputs": [],
   "source": [
    "# simple question answering using the tool\n",
    "agent_executor.invoke({\"input\": \"Mein Ticket ist hier: https://bit.ly/bahnticketdemo. Wann sollt ich wo am Bahnhof sein?\"})[\"output\"]"
   ]
  },
  {
   "cell_type": "code",
   "execution_count": null,
   "metadata": {},
   "outputs": [],
   "source": [
    "# using tools with dependencies\n",
    "agent_executor.invoke({\"input\": \"Mein Ticket ist hier: https://bit.ly/bahnticketdemo. Ist das Ticket valide?\"})[\"output\"]"
   ]
  },
  {
   "cell_type": "code",
   "execution_count": null,
   "metadata": {},
   "outputs": [],
   "source": []
  }
 ],
 "metadata": {
  "kernelspec": {
   "display_name": "Python 3 (ipykernel)",
   "language": "python",
   "name": "python3"
  },
  "language_info": {
   "codemirror_mode": {
    "name": "ipython",
    "version": 3
   },
   "file_extension": ".py",
   "mimetype": "text/x-python",
   "name": "python",
   "nbconvert_exporter": "python",
   "pygments_lexer": "ipython3",
   "version": "3.11.4"
  }
 },
 "nbformat": 4,
 "nbformat_minor": 4
}
