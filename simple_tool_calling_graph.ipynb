{
 "cells": [
  {
   "cell_type": "code",
   "execution_count": 34,
   "metadata": {},
   "outputs": [],
   "source": [
    "from langchain.prompts import (\n",
    "    ChatPromptTemplate,\n",
    "    HumanMessagePromptTemplate,\n",
    "    MessagesPlaceholder,\n",
    "    SystemMessagePromptTemplate,\n",
    ")\n",
    "from helpers import llm\n",
    "from langchain.tools import tool\n",
    "\n",
    "llm = llm()\n",
    "\n",
    "\n",
    "@tool\n",
    "def test_tool(question: str):\n",
    "    \"This tool provides information about Fritz Karuugaa. Give a question as input.\"\n",
    "    return \"Fritz Karuugaa is a software developer\"\n",
    "\n",
    "\n",
    "tools = [test_tool]\n",
    "\n",
    "llm_with_tools = llm.bind_tools(tools)\n",
    "\n",
    "prompt = ChatPromptTemplate.from_messages(\n",
    "    [\n",
    "        SystemMessagePromptTemplate.from_template(\n",
    "            \"Du bist ein hilfsbereiter Assistent. Löse deine Aufgaben auf eine humorvolle Art und weiße. Antworte zusätzlich immer mit einem Witz.\",\n",
    "        ),\n",
    "        HumanMessagePromptTemplate.from_template(\"{input}\"),\n",
    "        MessagesPlaceholder(\"intermediate_steps\"),\n",
    "    ]\n",
    ")\n",
    "\n",
    "chain = prompt | llm_with_tools"
   ]
  },
  {
   "cell_type": "code",
   "execution_count": 35,
   "metadata": {},
   "outputs": [
    {
     "name": "stdout",
     "output_type": "stream",
     "text": [
      "state {'input': 'Was weißt du über Fritz Karuugaa?', 'intermediate_steps': [], 'answer': None}\n",
      "state {'input': 'Was weißt du über Fritz Karuugaa?', 'intermediate_steps': [AIMessage(content='', additional_kwargs={'tool_calls': [{'id': 'call_yAWGsw9xWdEAuODTXsGZ8Ugk', 'function': {'arguments': '{\"question\":\"Tell me about Fritz Karuugaa\"}', 'name': 'test_tool'}, 'type': 'function'}]}, response_metadata={'token_usage': {'completion_tokens': 21, 'prompt_tokens': 110, 'total_tokens': 131}, 'model_name': 'gpt-3.5-turbo', 'system_fingerprint': None, 'finish_reason': 'tool_calls', 'logprobs': None}, id='run-88015fa4-1020-4c7d-b162-232a9cd9205e-0', tool_calls=[{'name': 'test_tool', 'args': {'question': 'Tell me about Fritz Karuugaa'}, 'id': 'call_yAWGsw9xWdEAuODTXsGZ8Ugk'}]), ToolMessage(content='Fritz Karuugaa is a software developer', tool_call_id='call_yAWGsw9xWdEAuODTXsGZ8Ugk')], 'answer': None}\n"
     ]
    },
    {
     "data": {
      "text/plain": [
       "{'input': 'Was weißt du über Fritz Karuugaa?',\n",
       " 'intermediate_steps': [AIMessage(content='', additional_kwargs={'tool_calls': [{'id': 'call_yAWGsw9xWdEAuODTXsGZ8Ugk', 'function': {'arguments': '{\"question\":\"Tell me about Fritz Karuugaa\"}', 'name': 'test_tool'}, 'type': 'function'}]}, response_metadata={'token_usage': {'completion_tokens': 21, 'prompt_tokens': 110, 'total_tokens': 131}, 'model_name': 'gpt-3.5-turbo', 'system_fingerprint': None, 'finish_reason': 'tool_calls', 'logprobs': None}, id='run-88015fa4-1020-4c7d-b162-232a9cd9205e-0', tool_calls=[{'name': 'test_tool', 'args': {'question': 'Tell me about Fritz Karuugaa'}, 'id': 'call_yAWGsw9xWdEAuODTXsGZ8Ugk'}]),\n",
       "  ToolMessage(content='Fritz Karuugaa is a software developer', tool_call_id='call_yAWGsw9xWdEAuODTXsGZ8Ugk'),\n",
       "  AIMessage(content='Fritz Karuugaa is a software developer. Why did the computer go to the doctor? Because it had a virus!', response_metadata={'token_usage': {'completion_tokens': 27, 'prompt_tokens': 149, 'total_tokens': 176}, 'model_name': 'gpt-3.5-turbo', 'system_fingerprint': None, 'finish_reason': 'stop', 'logprobs': None}, id='run-7cfcd1d1-833e-4374-aef2-af72454e0f76-0')]}"
      ]
     },
     "execution_count": 35,
     "metadata": {},
     "output_type": "execute_result"
    }
   ],
   "source": [
    "import operator\n",
    "from typing import Annotated, TypedDict\n",
    "\n",
    "from langchain_core.agents import AgentActionMessageLog, AgentFinish\n",
    "from langchain_core.messages import ToolMessage\n",
    "from langchain_core.runnables import RunnableLambda\n",
    "from langgraph.graph import END, StateGraph\n",
    "\n",
    "\n",
    "class AgentState(TypedDict):\n",
    "    input: str\n",
    "    intermediate_steps: Annotated[list[tuple[AgentActionMessageLog, str]], operator.add]\n",
    "    answer: str\n",
    "\n",
    "\n",
    "def should_continue(state):\n",
    "    return \"continue\" if state[\"intermediate_steps\"][-1].tool_calls else \"end\"\n",
    "\n",
    "\n",
    "def call_model(state, config):\n",
    "    response = chain.invoke(state, config=config)\n",
    "    print(\"state\", state)\n",
    "    if isinstance(response, AgentFinish):\n",
    "        return {\"answer\": response.answer}\n",
    "    else:\n",
    "        return {\"intermediate_steps\": [response]}\n",
    "    # return {\"intermediate_steps\": [chain.invoke(state, config=config)]}\n",
    "\n",
    "\n",
    "def _invoke_tool(tool_call):\n",
    "    tool = {tool.name: tool for tool in tools}[tool_call[\"name\"]]\n",
    "    return ToolMessage(tool.invoke(tool_call[\"args\"]), tool_call_id=tool_call[\"id\"])\n",
    "\n",
    "\n",
    "tool_executor = RunnableLambda(_invoke_tool)\n",
    "\n",
    "\n",
    "def call_tools(state):\n",
    "    last_message = state[\"intermediate_steps\"][-1]\n",
    "    return {\"intermediate_steps\": tool_executor.batch(last_message.tool_calls)}\n",
    "\n",
    "\n",
    "workflow = StateGraph(AgentState)\n",
    "workflow.add_node(\"agent\", call_model)\n",
    "workflow.add_node(\"action\", call_tools)\n",
    "workflow.set_entry_point(\"agent\")\n",
    "workflow.add_conditional_edges(\n",
    "    \"agent\",\n",
    "    should_continue,\n",
    "    {\n",
    "        \"continue\": \"action\",\n",
    "        \"end\": END,\n",
    "    },\n",
    ")\n",
    "workflow.add_edge(\"action\", \"agent\")\n",
    "graph = workflow.compile()\n",
    "graph.invoke({\"input\": \"Was weißt du über Fritz Karuugaa?\"})"
   ]
  }
 ],
 "metadata": {
  "kernelspec": {
   "display_name": "Python 3",
   "language": "python",
   "name": "python3"
  },
  "language_info": {
   "codemirror_mode": {
    "name": "ipython",
    "version": 3
   },
   "file_extension": ".py",
   "mimetype": "text/x-python",
   "name": "python",
   "nbconvert_exporter": "python",
   "pygments_lexer": "ipython3",
   "version": "3.12.3"
  }
 },
 "nbformat": 4,
 "nbformat_minor": 2
}
