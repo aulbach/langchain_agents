{
 "cells": [
  {
   "cell_type": "markdown",
   "id": "65af70a6-207d-4fd1-9600-8088d9ce4cae",
   "metadata": {},
   "source": [
    "# 🦜🔗 LangChain agent with human tool"
   ]
  },
  {
   "cell_type": "code",
   "execution_count": null,
   "id": "a371bfd9-7659-44c2-a8a8-d840a6aad76b",
   "metadata": {
    "scrolled": true
   },
   "outputs": [],
   "source": [
    "%pip install -r requirements.txt"
   ]
  },
  {
   "cell_type": "code",
   "execution_count": 2,
   "id": "214a8c39-1878-4f1f-bab4-6a94db6fd941",
   "metadata": {},
   "outputs": [],
   "source": [
    "import os\n",
    "from dotenv import load_dotenv\n",
    "from langchain import hub\n",
    "from langchain.agents import create_openai_functions_agent\n",
    "from langchain_openai.chat_models import ChatOpenAI, AzureChatOpenAI\n",
    "from helpers import llm"
   ]
  },
  {
   "cell_type": "code",
   "execution_count": 2,
   "id": "3c9197c3-ac03-4849-b705-d6a218d7c804",
   "metadata": {},
   "outputs": [],
   "source": [
    "def _approve(_input: str) -> bool:\n",
    "    msg = (\n",
    "        \"Do you approve of the following input? \"\n",
    "        \"Anything except 'Y'/'Yes' (case-insensitive) will be treated as a no.\"\n",
    "    )\n",
    "    msg += \"\\n\\n\" + _input + \"\\n\"\n",
    "    resp = input(msg)\n",
    "    return resp.lower() in (\"yes\", \"y\")"
   ]
  },
  {
   "cell_type": "code",
   "execution_count": 5,
   "id": "785e3055-e1af-4a9e-acd1-aa7aa9b4aaf4",
   "metadata": {},
   "outputs": [
    {
     "name": "stderr",
     "output_type": "stream",
     "text": [
      "/home/ksabass/Projects/langchain_agents/env/lib/python3.11/site-packages/langchain_community/tools/shell/tool.py:32: UserWarning: The shell tool has no safeguards by default. Use at your own risk.\n",
      "  warnings.warn(\n"
     ]
    },
    {
     "name": "stdout",
     "output_type": "stream",
     "text": [
      "Executing command:\n",
      " wc -l *.ipynb\n"
     ]
    },
    {
     "data": {
      "text/plain": [
       "'The total number of lines in all python notebooks in the current directory is 3268.'"
      ]
     },
     "execution_count": 5,
     "metadata": {},
     "output_type": "execute_result"
    }
   ],
   "source": [
    "llm = AzureChatOpenAI(deployment_name=\"gpt-4-32-k\", temperature=0)\n",
    "tools = load_tools([\"terminal\"], llm=llm)\n",
    "agent = initialize_agent(\n",
    "    tools,\n",
    "    llm,\n",
    "    agent=AgentType.CHAT_ZERO_SHOT_REACT_DESCRIPTION,\n",
    ")\n",
    "callbacks = [HumanApprovalCallbackHandler(approve=_approve)]\n",
    "\n",
    "agent.run(\"Count the lines of all python notebooks in the current directory.\", callbacks=callbacks)"
   ]
  },
  {
   "cell_type": "code",
   "execution_count": null,
   "id": "778a2556-7c74-44db-9983-f7c9797ff5d0",
   "metadata": {},
   "outputs": [],
   "source": [
    "agent.run(\"send a mail with the subject 'donald trump hat doofe ohren' to donald@trump.com\", callbacks=callbacks)"
   ]
  }
 ],
 "metadata": {
  "kernelspec": {
   "display_name": "Python 3 (ipykernel)",
   "language": "python",
   "name": "python3"
  },
  "language_info": {
   "codemirror_mode": {
    "name": "ipython",
    "version": 3
   },
   "file_extension": ".py",
   "mimetype": "text/x-python",
   "name": "python",
   "nbconvert_exporter": "python",
   "pygments_lexer": "ipython3",
   "version": "3.11.4"
  }
 },
 "nbformat": 4,
 "nbformat_minor": 5
}
