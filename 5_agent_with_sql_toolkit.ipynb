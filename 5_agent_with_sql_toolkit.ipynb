{
 "cells": [
  {
   "cell_type": "markdown",
   "id": "424e38a2-7f99-4fad-9871-803fb2bbcf0d",
   "metadata": {},
   "source": [
    "# 🦜🔗 LangChain agent using a db"
   ]
  },
  {
   "cell_type": "code",
   "execution_count": null,
   "id": "89d9b246-bfd2-4e67-9c8e-15289686ac85",
   "metadata": {
    "scrolled": true
   },
   "outputs": [],
   "source": [
    "%pip install -r requirements.txt"
   ]
  },
  {
   "cell_type": "code",
   "execution_count": null,
   "id": "60be7521-85e9-4641-a509-fb9304c497e7",
   "metadata": {},
   "outputs": [],
   "source": [
    "! [ ! -f northwind.db ] && bunzip2 northwind.db.bz2"
   ]
  },
  {
   "cell_type": "code",
   "execution_count": null,
   "id": "8ff7d5dd-42bc-49b2-95c6-716eeb188203",
   "metadata": {},
   "outputs": [],
   "source": [
    "from langchain.agents import create_sql_agent\n",
    "from langchain.agents.agent_toolkits import SQLDatabaseToolkit\n",
    "from langchain.sql_database import SQLDatabase\n",
    "from langchain.llms.openai import OpenAI\n",
    "from langchain.agents import AgentExecutor\n",
    "from langchain.agents.agent_types import AgentType\n",
    "from langchain.chat_models import ChatOpenAI\n",
    "from dotenv import load_dotenv\n",
    "\n",
    "load_dotenv()"
   ]
  },
  {
   "cell_type": "code",
   "execution_count": null,
   "id": "1de72dcd-9880-4b69-8957-13f3c1b1843c",
   "metadata": {},
   "outputs": [],
   "source": [
    "db = SQLDatabase.from_uri(\"sqlite:///northwind.db\")\n",
    "llm = OpenAI(temperature=0, verbose=True)\n",
    "toolkit = SQLDatabaseToolkit(db=db, llm=llm)\n",
    "agent_executor = create_sql_agent(\n",
    "    llm=llm,\n",
    "    toolkit=toolkit,\n",
    "    verbose=True,\n",
    "    agent_type=AgentType.ZERO_SHOT_REACT_DESCRIPTION,\n",
    ")"
   ]
  },
  {
   "cell_type": "code",
   "execution_count": null,
   "id": "21efe23e-5d71-403a-8116-8e70dcf36017",
   "metadata": {},
   "outputs": [],
   "source": [
    "agent_executor.run(\"Where do i find the orders?\")"
   ]
  },
  {
   "cell_type": "code",
   "execution_count": null,
   "id": "ceb7232b-ddff-4c2e-a325-9378469225f1",
   "metadata": {},
   "outputs": [],
   "source": [
    "agent_executor.run(\"Are there any order from Munich?\")"
   ]
  },
  {
   "cell_type": "code",
   "execution_count": null,
   "id": "a337f27a-939d-4670-8e35-fecd962a2e2e",
   "metadata": {},
   "outputs": [],
   "source": [
    "agent_executor.run(\"Which Employee has the most orders?\")"
   ]
  },
  {
   "cell_type": "code",
   "execution_count": null,
   "id": "19480ddf-96f4-456f-8616-f9399c3702ae",
   "metadata": {},
   "outputs": [],
   "source": []
  }
 ],
 "metadata": {
  "kernelspec": {
   "display_name": "Python 3 (ipykernel)",
   "language": "python",
   "name": "python3"
  },
  "language_info": {
   "codemirror_mode": {
    "name": "ipython",
    "version": 3
   },
   "file_extension": ".py",
   "mimetype": "text/x-python",
   "name": "python",
   "nbconvert_exporter": "python",
   "pygments_lexer": "ipython3",
   "version": "3.10.12"
  }
 },
 "nbformat": 4,
 "nbformat_minor": 5
}
