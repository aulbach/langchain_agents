{
 "cells": [
  {
   "cell_type": "markdown",
   "id": "0",
   "metadata": {},
   "source": [
    "# 🦜🔗 LangChain agent using a db"
   ]
  },
  {
   "cell_type": "code",
   "execution_count": null,
   "id": "1",
   "metadata": {},
   "outputs": [],
   "source": [
    "%pip install -r requirements.txt\n",
    "! [ ! -f northwind.db ] && bunzip2 northwind.db.bz2"
   ]
  },
  {
   "cell_type": "markdown",
   "id": "0f076412",
   "metadata": {},
   "source": [
    "Wir brauchen eine kleine Test-Datenbank: https://database.guide/2-sample-databases-sqlite/\n",
    "Die Kurzanleitung ist wie folgt:\n",
    "\n",
    "- Sqlite3 installieren\n",
    "- Dieses [File](https://raw.githubusercontent.com/lerocha/chinook-database/master/ChinookDatabase/DataSources/Chinook_Sqlite.sql) als Chinook_Sqlite.sql abspeichern\n",
    "- Run sqlite3 Chinook.db (öffnet ein interaktives sqlite Terminal)\n",
    "- Run .read Chinook_Sqlite.sql\n",
    "- Test SELECT * FROM Artist LIMIT 10;"
   ]
  },
  {
   "cell_type": "code",
   "execution_count": 41,
   "id": "def664b3",
   "metadata": {},
   "outputs": [
    {
     "data": {
      "text/plain": [
       "True"
      ]
     },
     "execution_count": 41,
     "metadata": {},
     "output_type": "execute_result"
    }
   ],
   "source": [
    "from langchain_community.agent_toolkits import SQLDatabaseToolkit\n",
    "from langchain_community.utilities.sql_database import SQLDatabase\n",
    "from dotenv import load_dotenv\n",
    "load_dotenv()"
   ]
  },
  {
   "cell_type": "code",
   "execution_count": 42,
   "id": "b829cdf9",
   "metadata": {},
   "outputs": [],
   "source": [
    "from langgraph.prebuilt import create_agent_executor\n",
    "from langchain.agents import create_openai_functions_agent\n",
    "from langchain import hub\n",
    "from helpers import llm\n",
    "from langchain_openai import ChatOpenAI\n",
    "from langchain_core.prompts.chat import (\n",
    "    ChatPromptTemplate\n",
    ")\n",
    "db = SQLDatabase.from_uri(\"sqlite:///Chinook.db\")\n",
    "# llm = ChatOpenAI(model=\"gpt-3.5-turbo\", temperature=0)\n",
    "my_llm = llm._prepare()[0]._prepare()[0] #HACK HACK HACK #TODO REWORK\n",
    "toolkit = SQLDatabaseToolkit(db=db, llm=my_llm)\n",
    "tools = toolkit.get_tools()\n",
    "prompt: ChatPromptTemplate = hub.pull(\"reactagent/sql\")\n",
    "prompt = prompt.partial(dialect=toolkit.dialect, top_k=10)\n",
    "agent_runnable = create_openai_functions_agent(llm, tools, prompt)\n",
    "app = create_agent_executor(agent_runnable, tools)"
   ]
  },
  {
   "cell_type": "code",
   "execution_count": null,
   "id": "81161a21",
   "metadata": {},
   "outputs": [],
   "source": [
    "from typing import List, Tuple\n",
    "from langchain_core.agents import AgentActionMessageLog, AgentFinish\n",
    "inputs = {\"input\": \"List the total sales per country. Which country's customers spent the most?\"}\n",
    "# Dies hier ist kein \"echtes\" Agenten-Streaming. Die gestreamten Chunks sind die kompletten Zwischenschritte des Agenten und der Tools, keine Token.\n",
    "for chunk in app.stream(inputs):\n",
    "    for key, value in chunk.items():\n",
    "        if key == \"agent\":\n",
    "            outcome  = value.get(\"agent_outcome\")\n",
    "            if isinstance(outcome, AgentActionMessageLog):\n",
    "                print(f\"Agent log:\\n\\n{outcome.log.strip()}\")\n",
    "            elif isinstance(outcome, AgentFinish):\n",
    "                print(f\"Agent finished:\\n\\n{outcome.log.strip()}\")\n",
    "            print(\"\\n----------------------------------------------------------------------------------------\\n\\n\")\n",
    "        elif key == \"action\":\n",
    "            steps: List[Tuple[AgentActionMessageLog, str]] = value.get(\"intermediate_steps\")\n",
    "            for index, step in enumerate(steps):\n",
    "                print(f\"Tool log:\\n\\n{step[1].strip()}\")\n",
    "                if index < len(steps) - 1:\n",
    "                    print(\"----------------\")\n",
    "            print(\"\\n----------------------------------------------------------------------------------------\\n\\n\")\n",
    "        elif key == \"__end__\":\n",
    "            print(\"Done\")"
   ]
  },
  {
   "cell_type": "markdown",
   "id": "1517f52b",
   "metadata": {},
   "source": [
    "Die alten Befehle. Was tun die?  War die alte DB besser?\n",
    "\n",
    "- db = SQLDatabase.from_uri(\"sqlite:///northwind.db\")\n",
    "- agent_executor.run(\"Where do i find the orders?\")\n",
    "- agent_executor.run(\"Are there any order from Munich?\")\n",
    "- agent_executor.run(\"Which Employee has the most orders?\")\n"
   ]
  }
 ],
 "metadata": {
  "kernelspec": {
   "display_name": "base",
   "language": "python",
   "name": "python3"
  },
  "language_info": {
   "codemirror_mode": {
    "name": "ipython",
    "version": 3
   },
   "file_extension": ".py",
   "mimetype": "text/x-python",
   "name": "python",
   "nbconvert_exporter": "python",
   "pygments_lexer": "ipython3",
   "version": "3.11.4"
  }
 },
 "nbformat": 4,
 "nbformat_minor": 5
}
