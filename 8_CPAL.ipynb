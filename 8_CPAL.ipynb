{
 "cells": [
  {
   "cell_type": "markdown",
   "id": "0",
   "metadata": {},
   "source": [
    "# 🦜🔗 LangChain Causal program-aided chain"
   ]
  },
  {
   "cell_type": "code",
   "execution_count": null,
   "id": "1",
   "metadata": {},
   "outputs": [],
   "source": [
    "%pip install -r requirements.txt"
   ]
  },
  {
   "cell_type": "code",
   "execution_count": null,
   "id": "2",
   "metadata": {},
   "outputs": [],
   "source": [
    "%pip install duckdb networkx pandas"
   ]
  },
  {
   "cell_type": "code",
   "execution_count": null,
   "id": "3",
   "metadata": {},
   "outputs": [],
   "source": [
    "from langchain_experimental.cpal.base import CPALChain\n",
    "from langchain.chat_models import AzureChatOpenAI\n",
    "from dotenv import load_dotenv\n",
    "\n",
    "load_dotenv()\n",
    "\n",
    "llm = AzureChatOpenAI(\n",
    "    deployment_name=\"gpt-4\", \n",
    "    api_version=\"2023-07-01-preview\",\n",
    "    temperature=0)"
   ]
  },
  {
   "cell_type": "code",
   "execution_count": null,
   "id": "4",
   "metadata": {},
   "outputs": [],
   "source": [
    "cpal_chain = CPALChain.from_univariate_prompt(llm=llm, verbose=True)\n",
    "question = (\n",
    "    \"Tim buys the same number of pets as Cindy and Boris.\"\n",
    "    \"Cindy buys the same number of pets as Bill plus Bob.\"\n",
    "    \"Boris buys the same number of pets as Ben plus Beth.\"\n",
    "    \"Bill buys the same number of pets as Obama.\"\n",
    "    \"Bob buys the same number of pets as Obama.\"\n",
    "    \"Ben buys the same number of pets as Obama.\"\n",
    "    \"Beth buys the same number of pets as Obama.\"\n",
    "    \"If Obama buys one pet, how many pets total does everyone buy?\"\n",
    ")\n",
    "\n",
    "result = cpal_chain.run(question)\n",
    "print(result)\n"
   ]
  },
  {
   "cell_type": "code",
   "execution_count": null,
   "id": "5",
   "metadata": {},
   "outputs": [],
   "source": [
    "cpal_chain = CPALChain.from_univariate_prompt(llm=llm, verbose=True)\n",
    "question = (\n",
    "    \"Jan has three times the number of pets as Marcia.\"\n",
    "    \"Marcia has two more pets than Cindy.\"\n",
    "    \"If Cindy has ten pets, how many pets does Barak have?\"\n",
    ")\n",
    "try:\n",
    "    cpal_chain.run(question)\n",
    "except Exception as e_msg:\n",
    "    print(e_msg)"
   ]
  },
  {
   "cell_type": "code",
   "execution_count": null,
   "id": "6",
   "metadata": {},
   "outputs": [],
   "source": []
  }
 ],
 "metadata": {
  "language_info": {
   "codemirror_mode": {
    "name": "ipython"
   },
   "file_extension": ".py",
   "mimetype": "text/x-python",
   "name": "python",
   "nbconvert_exporter": "python"
  }
 },
 "nbformat": 4,
 "nbformat_minor": 5
}
