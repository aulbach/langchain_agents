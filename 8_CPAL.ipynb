{
 "cells": [
  {
   "cell_type": "markdown",
   "id": "0",
   "metadata": {},
   "source": [
    "# 🦜🔗 LangChain Causal program-aided chain"
   ]
  },
  {
   "cell_type": "code",
   "execution_count": null,
   "id": "1",
   "metadata": {},
   "outputs": [],
   "source": [
    "#%pip install duckdb networkx pandas langchain_experimental"
   ]
  },
  {
   "cell_type": "markdown",
   "id": "2",
   "metadata": {},
   "source": [
    "(causal program-aided language)"
   ]
  },
  {
   "cell_type": "code",
   "execution_count": null,
   "id": "3",
   "metadata": {},
   "outputs": [],
   "source": [
    "from langchain_experimental.cpal.base import CPALChain\n",
    "from helpers import llm"
   ]
  },
  {
   "cell_type": "code",
   "execution_count": null,
   "id": "4",
   "metadata": {},
   "outputs": [],
   "source": [
    "cpal_chain = CPALChain.from_univariate_prompt(llm=llm(), verbose=True)\n",
    "question = (\n",
    "    \"Tim buys the same number of pets as Cindy and Boris.\"\n",
    "    \"Cindy buys the same number of pets as Bill plus Bob.\"\n",
    "    \"Boris buys the same number of pets as Ben plus Beth.\"\n",
    "    \"Bill buys the same number of pets as Obama.\"\n",
    "    \"Bob buys the same number of pets as Obama.\"\n",
    "    \"Ben buys the same number of pets as Obama.\"\n",
    "    \"Beth buys the same number of pets as Obama.\"\n",
    "    \"If Obama buys one pet, how many pets total does everyone buy?\"\n",
    ")\n",
    "\n",
    "result = cpal_chain.invoke(question)\n",
    "print(result[\"chain_answer\"])\n"
   ]
  },
  {
   "cell_type": "code",
   "execution_count": null,
   "id": "5",
   "metadata": {},
   "outputs": [],
   "source": [
    "cpal_chain = CPALChain.from_univariate_prompt(llm=llm(), verbose=True)\n",
    "question = (\n",
    "    \"Jan has three times the number of pets as Marcia.\"\n",
    "    \"Marcia has two more pets than Cindy.\"\n",
    "    \"If Cindy has ten pets, how many pets does Barak have?\"\n",
    ")\n",
    "cpal_chain.run(question)"
   ]
  }
 ],
 "metadata": {
  "kernelspec": {
   "display_name": "base",
   "language": "python",
   "name": "python3"
  },
  "language_info": {
   "codemirror_mode": {
    "name": "ipython",
    "version": 3
   },
   "file_extension": ".py",
   "mimetype": "text/x-python",
   "name": "python",
   "nbconvert_exporter": "python",
   "pygments_lexer": "ipython3",
   "version": "3.11.4"
  }
 },
 "nbformat": 4,
 "nbformat_minor": 5
}
