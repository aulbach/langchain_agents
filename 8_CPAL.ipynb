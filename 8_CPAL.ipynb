{
 "cells": [
  {
   "cell_type": "markdown",
   "id": "b8d8c140-858a-4c70-b7b9-63f06a23c3a6",
   "metadata": {},
   "source": [
    "# 🦜🔗 LangChain Causal program-aided chain"
   ]
  },
  {
   "cell_type": "code",
   "execution_count": null,
   "id": "c10edb20-7051-4ffd-bd7c-30f33ed82cd2",
   "metadata": {
    "scrolled": true
   },
   "outputs": [],
   "source": [
    "%pip install -r requirements.txt"
   ]
  },
  {
   "cell_type": "code",
   "execution_count": null,
   "id": "09c904ee-dc1d-4d10-9075-33f11bfbc3ea",
   "metadata": {},
   "outputs": [],
   "source": [
    "%pip install duckdb networkx pandas"
   ]
  },
  {
   "cell_type": "code",
   "execution_count": 9,
   "id": "223d22ae-67d4-400e-860b-af6fb9808da8",
   "metadata": {},
   "outputs": [],
   "source": [
    "from langchain_experimental.cpal.base import CPALChain\n",
    "from langchain.chat_models import AzureChatOpenAI\n",
    "from dotenv import load_dotenv\n",
    "\n",
    "load_dotenv()\n",
    "\n",
    "llm = AzureChatOpenAI(\n",
    "    deployment_name=\"gpt-4\", \n",
    "    api_version=\"2023-07-01-preview\",\n",
    "    temperature=0)"
   ]
  },
  {
   "cell_type": "code",
   "execution_count": 11,
   "id": "554a360d-2d85-42f8-80d3-5369fc707e73",
   "metadata": {},
   "outputs": [
    {
     "name": "stdout",
     "output_type": "stream",
     "text": [
      "\n",
      "\n",
      "\u001b[1m> Entering new CPALChain chain...\u001b[0m\n",
      "\u001b[32;1m\u001b[1;3mstory outcome data\n",
      "    name                                   code  value      depends_on\n",
      "0  obama                                   pass    1.0              []\n",
      "1   bill               bill.value = obama.value    1.0         [obama]\n",
      "2    bob                bob.value = obama.value    1.0         [obama]\n",
      "3    ben                ben.value = obama.value    1.0         [obama]\n",
      "4   beth               beth.value = obama.value    1.0         [obama]\n",
      "5  cindy   cindy.value = bill.value + bob.value    2.0     [bill, bob]\n",
      "6  boris   boris.value = ben.value + beth.value    2.0     [ben, beth]\n",
      "7    tim  tim.value = cindy.value + boris.value    4.0  [cindy, boris]\u001b[0m\n",
      "\n",
      "\u001b[36;1m\u001b[1;3mquery data\n",
      "{\n",
      "    \"question\": \"how many pets total does everyone buy?\",\n",
      "    \"expression\": \"SELECT SUM(value) FROM df\",\n",
      "    \"llm_error_msg\": \"\"\n",
      "}\u001b[0m\n",
      "\n",
      "\n",
      "\u001b[1m> Finished chain.\u001b[0m\n",
      "13.0\n"
     ]
    }
   ],
   "source": [
    "cpal_chain = CPALChain.from_univariate_prompt(llm=llm, verbose=True)\n",
    "question = (\n",
    "    \"Tim buys the same number of pets as Cindy and Boris.\"\n",
    "    \"Cindy buys the same number of pets as Bill plus Bob.\"\n",
    "    \"Boris buys the same number of pets as Ben plus Beth.\"\n",
    "    \"Bill buys the same number of pets as Obama.\"\n",
    "    \"Bob buys the same number of pets as Obama.\"\n",
    "    \"Ben buys the same number of pets as Obama.\"\n",
    "    \"Beth buys the same number of pets as Obama.\"\n",
    "    \"If Obama buys one pet, how many pets total does everyone buy?\"\n",
    ")\n",
    "\n",
    "result = cpal_chain.run(question)\n",
    "print(result)\n"
   ]
  },
  {
   "cell_type": "code",
   "execution_count": null,
   "id": "18efed03-eccf-45b3-a35a-a1809ec738f1",
   "metadata": {},
   "outputs": [],
   "source": [
    "cpal_chain = CPALChain.from_univariate_prompt(llm=llm, verbose=True)\n",
    "question = (\n",
    "    \"Jan has three times the number of pets as Marcia.\"\n",
    "    \"Marcia has two more pets than Cindy.\"\n",
    "    \"If Cindy has ten pets, how many pets does Barak have?\"\n",
    ")\n",
    "try:\n",
    "    cpal_chain.run(question)\n",
    "except Exception as e_msg:\n",
    "    print(e_msg)"
   ]
  },
  {
   "cell_type": "code",
   "execution_count": null,
   "metadata": {},
   "outputs": [],
   "source": []
  }
 ],
 "metadata": {
  "kernelspec": {
   "display_name": "Python 3 (ipykernel)",
   "language": "python",
   "name": "python3"
  },
  "language_info": {
   "codemirror_mode": {
    "name": "ipython",
    "version": 3
   },
   "file_extension": ".py",
   "mimetype": "text/x-python",
   "name": "python",
   "nbconvert_exporter": "python",
   "pygments_lexer": "ipython3",
   "version": "3.11.5"
  }
 },
 "nbformat": 4,
 "nbformat_minor": 5
}
