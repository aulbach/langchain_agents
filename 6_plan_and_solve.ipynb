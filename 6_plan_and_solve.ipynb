{
 "cells": [
  {
   "cell_type": "markdown",
   "id": "bf3e6e91-d276-4602-af9f-c2c1aba6e648",
   "metadata": {},
   "source": [
    "# 🦜🔗 LangChain agent using plan and solve"
   ]
  },
  {
   "cell_type": "code",
   "execution_count": null,
   "id": "7027def5-9b24-4917-98ac-c5f5a22cee04",
   "metadata": {
    "scrolled": true
   },
   "outputs": [],
   "source": [
    "%pip install -r requirements.txt"
   ]
  },
  {
   "cell_type": "code",
   "execution_count": null,
   "id": "b99e8e8a-2f85-4976-9b12-9c7f5fe7974e",
   "metadata": {},
   "outputs": [],
   "source": [
    "import os\n",
    "from langchain.chat_models import ChatOpenAI\n",
    "from langchain_experimental.plan_and_execute import PlanAndExecute, load_agent_executor, load_chat_planner\n",
    "from langchain.llms import OpenAI\n",
    "from langchain import SerpAPIWrapper\n",
    "from langchain.agents.tools import Tool\n",
    "from langchain.tools import tool\n",
    "from langchain import LLMMathChain\n",
    "from langchain.agents import load_tools,initialize_agent, AgentType\n",
    "from langchain.utilities.jira import JiraAPIWrapper\n",
    "from langchain.agents.agent_toolkits.jira.toolkit import JiraToolkit\n",
    "from dotenv import load_dotenv\n",
    "\n",
    "load_dotenv()\n",
    "os.environ[\"JIRA_API_TOKEN\"] = \"ATATT3xFfGF0rq2dxlYIsEHCsINCq5MArxY7blUI0ZZIfy8jRjQiY7yE0NN7u7ooULXFtsVnqGtUShkwXNW8y4ko7DSr6GJclZaPcdALYpaDP2jp3OtMU1DfZNpfp4SOsvMw32sA8P_Kckvdf5rAFofOsrbEVPgLVa3ePqmeoKRYm-TIYxZnv7Q=37F9E163\"\n",
    "os.environ[\"JIRA_USERNAME\"] = \"johann-peter.hartmann@mayflower.de\"\n",
    "os.environ[\"JIRA_INSTANCE_URL\"] = \"https://langchaindemo.atlassian.net\""
   ]
  },
  {
   "cell_type": "code",
   "execution_count": null,
   "id": "9e421359-0a6f-475c-aa86-b001a2eaf451",
   "metadata": {},
   "outputs": [],
   "source": [
    "tools = load_tools(\n",
    "    [\"serpapi\", \"human\"]\n",
    ")\n",
    "\n",
    "jira = JiraAPIWrapper()\n",
    "jiratoolkit = JiraToolkit.from_jira_api_wrapper(jira)\n",
    "llm = ChatOpenAI(temperature=0)\n",
    "\n",
    "jiraagent = initialize_agent(\n",
    "    jiratoolkit.get_tools(), llm, agent=AgentType.ZERO_SHOT_REACT_DESCRIPTION, verbose=True\n",
    ")\n",
    "\n",
    "\n",
    "@tool(\"save\", return_direct=True)\n",
    "def save(userstories: list[str]) -> str:\n",
    "    \"\"\"Saves a list of user story into the backlog.\"\"\"\n",
    "    for userstory in userstories:\n",
    "        jiraagent.run(f\"create a new story in project TICTACTOE: {userstory}.\")\n",
    "    return \"Done.\"\n",
    "\n",
    "tools = tools + [save]\n",
    "tools"
   ]
  },
  {
   "cell_type": "code",
   "execution_count": null,
   "id": "4feec5de-992b-4d34-b90d-9b1e8f51d1a3",
   "metadata": {},
   "outputs": [],
   "source": [
    "model = ChatOpenAI(model=\"gpt-4\", temperature=0.0)\n",
    "planner = load_chat_planner(model)\n",
    "executor = load_agent_executor(model, tools, verbose=True)\n",
    "agent = PlanAndExecute(planner=planner, executor=executor, verbose=True)\n"
   ]
  },
  {
   "cell_type": "code",
   "execution_count": null,
   "id": "21441be3-58d7-4948-b63d-23509718521d",
   "metadata": {},
   "outputs": [],
   "source": [
    "agent.run(\"Create a backlog for a tictactoe game. When you are done save the final user stories to the backlog.\")"
   ]
  },
  {
   "cell_type": "code",
   "execution_count": null,
   "id": "1d77fed2-741b-453b-a72e-a0b6c6c0abfa",
   "metadata": {},
   "outputs": [],
   "source": []
  }
 ],
 "metadata": {
  "kernelspec": {
   "display_name": "Python 3 (ipykernel)",
   "language": "python",
   "name": "python3"
  },
  "language_info": {
   "codemirror_mode": {
    "name": "ipython",
    "version": 3
   },
   "file_extension": ".py",
   "mimetype": "text/x-python",
   "name": "python",
   "nbconvert_exporter": "python",
   "pygments_lexer": "ipython3",
   "version": "3.10.12"
  }
 },
 "nbformat": 4,
 "nbformat_minor": 5
}
