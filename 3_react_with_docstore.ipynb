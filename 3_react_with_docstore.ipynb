{
 "cells": [
  {
   "cell_type": "markdown",
   "id": "0",
   "metadata": {},
   "source": [
    "## 🦜🔗 LangChain RAG Agent (RAG nur bei Bedarf)"
   ]
  },
  {
   "cell_type": "code",
   "execution_count": null,
   "id": "1",
   "metadata": {},
   "outputs": [],
   "source": [
    "#%pip install -r requirements.txt"
   ]
  },
  {
   "cell_type": "code",
   "execution_count": null,
   "id": "2",
   "metadata": {},
   "outputs": [],
   "source": [
    "from langchain_community.vectorstores.faiss import FAISS\n",
    "from langchain.agents.agent_toolkits import create_retriever_tool\n",
    "from langchain.document_loaders.pdf import PyPDFLoader\n",
    "from langchain_text_splitters import CharacterTextSplitter\n",
    "from helpers import llm, embeddings\n",
    "from dotenv import load_dotenv\n",
    "load_dotenv()"
   ]
  },
  {
   "cell_type": "markdown",
   "id": "c464fe22",
   "metadata": {},
   "source": [
    "#### Wir erstellen eine kleine in-memory FAISS Datenbank.\n",
    "\n",
    "Zu Demo-Zwecken speichern wir sie kurz noch ab, dann kann man sie jederzeit wieder neu laden"
   ]
  },
  {
   "cell_type": "code",
   "execution_count": null,
   "id": "3",
   "metadata": {},
   "outputs": [],
   "source": [
    "loader = PyPDFLoader(\"LangChain.pdf\")\n",
    "documents = loader.load()\n",
    "text_splitter = CharacterTextSplitter(chunk_size=1000, chunk_overlap=30)\n",
    "docs = text_splitter.split_documents(documents)\n",
    "db = FAISS.from_documents(docs, embeddings())\n",
    "db.save_local(\"./vectorstore\")"
   ]
  },
  {
   "cell_type": "markdown",
   "id": "787328b5",
   "metadata": {},
   "source": [
    "#### Wir benutzen LangChain-Magie um aus der Vektor-Datenbank einen Retriever und aus dem Retriever ein Tool zu machen, das der Agent benutzen kann"
   ]
  },
  {
   "cell_type": "code",
   "execution_count": null,
   "id": "4",
   "metadata": {},
   "outputs": [],
   "source": [
    "db = FAISS.load_local(\"./vectorstore\", embeddings(), allow_dangerous_deserialization=True)\n",
    "retriever = db.as_retriever()\n",
    "tool = create_retriever_tool(\n",
    "    retriever,\n",
    "    \"search_langchain_documentation\",\n",
    "    \"This is the best place to look for any information about LangChain.\"\n",
    ")\n",
    "tools = [tool]"
   ]
  },
  {
   "cell_type": "markdown",
   "id": "ef9b724c",
   "metadata": {},
   "source": [
    "#### Wir bauen den Agenten (Noch mehr Magie) und geben ihm das Tool."
   ]
  },
  {
   "cell_type": "code",
   "execution_count": null,
   "id": "5",
   "metadata": {},
   "outputs": [],
   "source": [
    "from langgraph.prebuilt import create_agent_executor\n",
    "from langchain.agents import create_openai_functions_agent\n",
    "from langchain import hub\n",
    "prompt = hub.pull(\"reactagent/rag\")\n",
    "agent_runnable = create_openai_functions_agent(llm(), tools, prompt)\n",
    "agent_executor = create_agent_executor(agent_runnable, tools)"
   ]
  },
  {
   "cell_type": "markdown",
   "id": "bf247bfa",
   "metadata": {},
   "source": [
    "#### Wir definieren eine kleine Funktion, die die Ausgabe formatiert.\n",
    "\n",
    "Diese Arbeit muss man üblicherweise selbst tun, weil LangChain ja nicht weiß, welches Format man am Ende braucht."
   ]
  },
  {
   "cell_type": "code",
   "execution_count": null,
   "id": "6",
   "metadata": {},
   "outputs": [],
   "source": [
    "\n",
    "def formatted_output_writer(data):\n",
    "    return data.get(\"agent_outcome\").return_values.get(\"output\")\n",
    "\n",
    "app = agent_executor | formatted_output_writer"
   ]
  },
  {
   "cell_type": "markdown",
   "id": "0b59c574",
   "metadata": {},
   "source": [
    "#### Lets go!"
   ]
  },
  {
   "cell_type": "code",
   "execution_count": null,
   "id": "7",
   "metadata": {},
   "outputs": [],
   "source": [
    "inputs = {\"input\": \"How do I use LangChain with a Vectorstore?\"}\n",
    "output = app.invoke(inputs)\n",
    "output = app.invoke(inputs)\n",
    "print(f\"Agent result: {output}\")"
   ]
  }
 ],
 "metadata": {
  "kernelspec": {
   "display_name": "base",
   "language": "python",
   "name": "python3"
  },
  "language_info": {
   "codemirror_mode": {
    "name": "ipython",
    "version": 3
   },
   "file_extension": ".py",
   "mimetype": "text/x-python",
   "name": "python",
   "nbconvert_exporter": "python",
   "pygments_lexer": "ipython3",
   "version": "3.11.4"
  }
 },
 "nbformat": 4,
 "nbformat_minor": 5
}
