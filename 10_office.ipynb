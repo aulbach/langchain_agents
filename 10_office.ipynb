{
 "cells": [
  {
   "cell_type": "markdown",
   "metadata": {},
   "source": [
    "# 🦜🔗 LangChain agent interacting with office.\n",
    "GPT-4 Only! Sorry, it is due to structred output limitations in gpt-3.5"
   ]
  },
  {
   "cell_type": "code",
   "execution_count": null,
   "metadata": {},
   "outputs": [],
   "source": [
    "# %pip install -r requirements.txt\n",
    "# %pip install --upgrade O365"
   ]
  },
  {
   "cell_type": "code",
   "execution_count": null,
   "metadata": {},
   "outputs": [],
   "source": [
    "import os\n",
    "from langchain.agents import initialize_agent, AgentType\n",
    "from langchain.agents.agent_toolkits import O365Toolkit\n",
    "from dotenv import load_dotenv\n",
    "load_dotenv()\n",
    "from helpers import llm\n",
    "toolkit = O365Toolkit()\n",
    "tools = toolkit.get_tools()\n",
    "print(tools)\n",
    "print(os.getenv(\"CLIENT_ID\"))"
   ]
  },
  {
   "cell_type": "code",
   "execution_count": null,
   "metadata": {},
   "outputs": [],
   "source": [
    "agent = initialize_agent(\n",
    "    tools=toolkit.get_tools(),\n",
    "    llm=llm(),\n",
    "    verbose=True,\n",
    "    agent=AgentType.STRUCTURED_CHAT_ZERO_SHOT_REACT_DESCRIPTION,\n",
    ")\n",
    "\n",
    "agent.run(\n",
    "    \"Create an email draft to donald@trump.com about a contract building a pyramid in Egypt. \"\n",
    "    \"Please argue why we are the best company for the job. \"\n",
    "    \"Under no circumstances may you send the message, however. \"\n",
    ")"
   ]
  }
 ],
 "metadata": {
  "kernelspec": {
   "display_name": "Python 3 (ipykernel)",
   "language": "python",
   "name": "python3"
  },
  "language_info": {
   "codemirror_mode": {
    "name": "ipython",
    "version": 3
   },
   "file_extension": ".py",
   "mimetype": "text/x-python",
   "name": "python",
   "nbconvert_exporter": "python",
   "pygments_lexer": "ipython3",
   "version": "3.11.4"
  }
 },
 "nbformat": 4,
 "nbformat_minor": 4
}
