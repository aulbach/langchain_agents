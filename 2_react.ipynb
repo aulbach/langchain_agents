{
 "cells": [
  {
   "cell_type": "markdown",
   "id": "dda58d57-ddbb-415a-83eb-c1e37d092d98",
   "metadata": {},
   "source": [
    "# 🦜🔗 LangChain React Agent Demo"
   ]
  },
  {
   "cell_type": "code",
   "execution_count": null,
   "id": "cc10075e-8f38-42ba-8bd9-e65adbaf24a7",
   "metadata": {
    "scrolled": true
   },
   "outputs": [],
   "source": [
    "%pip install -r requirements.txt"
   ]
  },
  {
   "cell_type": "code",
   "execution_count": null,
   "id": "906a6f2e-85a9-4748-9720-4c4e35585039",
   "metadata": {},
   "outputs": [],
   "source": [
    "from langchain.agents import load_tools\n",
    "from langchain.agents import initialize_agent\n",
    "from langchain.agents import AgentType\n",
    "from langchain.llms import OpenAI\n",
    "from dotenv import load_dotenv\n",
    "\n",
    "load_dotenv()"
   ]
  },
  {
   "cell_type": "markdown",
   "id": "5cca258e-1e95-4276-94d5-08af504bbab5",
   "metadata": {},
   "source": [
    "Create a llm and load tools for search and math"
   ]
  },
  {
   "cell_type": "code",
   "execution_count": null,
   "id": "80941675-86b4-4e68-ab51-80a1cd9e4711",
   "metadata": {},
   "outputs": [],
   "source": [
    "llm = OpenAI(temperature=0)\n",
    "\n",
    "tools = load_tools([\"serpapi\", \"llm-math\"], llm=llm)\n",
    "agent = initialize_agent(tools, llm, agent=AgentType.ZERO_SHOT_REACT_DESCRIPTION, verbose=True)"
   ]
  },
  {
   "cell_type": "code",
   "execution_count": null,
   "id": "e4ee7924-6971-477c-b5d9-c1fee1db3aca",
   "metadata": {},
   "outputs": [],
   "source": [
    "agent.run(\"Wann wurde Dieter Bohlen geboren? Wann seine Frau? Was ist die Altersdifferenz?\")"
   ]
  },
  {
   "cell_type": "code",
   "execution_count": null,
   "id": "c80e78f3-0bab-4e2d-b06a-f8db147de419",
   "metadata": {},
   "outputs": [],
   "source": []
  }
 ],
 "metadata": {
  "kernelspec": {
   "display_name": "Python 3 (ipykernel)",
   "language": "python",
   "name": "python3"
  },
  "language_info": {
   "codemirror_mode": {
    "name": "ipython",
    "version": 3
   },
   "file_extension": ".py",
   "mimetype": "text/x-python",
   "name": "python",
   "nbconvert_exporter": "python",
   "pygments_lexer": "ipython3",
   "version": "3.10.12"
  }
 },
 "nbformat": 4,
 "nbformat_minor": 5
}
