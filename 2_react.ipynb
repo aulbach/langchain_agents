{
 "cells": [
  {
   "cell_type": "markdown",
   "id": "0",
   "metadata": {},
   "source": [
    "# 🦜🔗 LangChain React Agent Demo"
   ]
  },
  {
   "cell_type": "markdown",
   "id": "36bcca2d",
   "metadata": {},
   "source": [
    "In diesem Part schauen wir uns Agenten an. Dabei nutzten wir die neueste Langchain Entwicklung, LangGraph. Mit LangGraph können Agenten als Graphen modelliert werden.\n",
    "\n",
    "Um die Komplexität gering zu halten, verwenden wir in diesen Beispielen Prebuilt Agent- und Tool-Executors, die von Langchain bereit gestellt werden."
   ]
  },
  {
   "cell_type": "markdown",
   "id": "fe27a407",
   "metadata": {},
   "source": [
    "Zuerst installieren wir uns die benötigten Pakete:"
   ]
  },
  {
   "cell_type": "code",
   "execution_count": null,
   "id": "1",
   "metadata": {},
   "outputs": [],
   "source": [
    "%pip install -r requirements.txt"
   ]
  },
  {
   "cell_type": "markdown",
   "id": "6df35eec",
   "metadata": {},
   "source": [
    "Wir laden die benötigen Umgebungsvariablen:"
   ]
  },
  {
   "cell_type": "code",
   "execution_count": null,
   "id": "2",
   "metadata": {},
   "outputs": [],
   "source": [
    "from dotenv import load_dotenv\n",
    "\n",
    "load_dotenv()"
   ]
  },
  {
   "cell_type": "markdown",
   "id": "89f144e1",
   "metadata": {},
   "source": [
    "Jetzt definieren wir Tools die unser Agent benutzen kann. In diesem Fall eine Websuche über DuckduckGo. Dadurch erlang der Agent die Fähigkeit Informationen aus dem Internet zu recherchieren."
   ]
  },
  {
   "cell_type": "code",
   "execution_count": null,
   "id": "61169695",
   "metadata": {},
   "outputs": [],
   "source": [
    "from langgraph.prebuilt import ToolExecutor\n",
    "from langchain_community.tools.ddg_search.tool import DuckDuckGoSearchRun\n",
    "\n",
    "tools = [DuckDuckGoSearchRun()]\n",
    "tools_executor = ToolExecutor(tools)"
   ]
  },
  {
   "cell_type": "markdown",
   "id": "f4d34d63",
   "metadata": {},
   "source": [
    "Jetzt erstellen wir unseren Agenten. Hierfür benötigen wir ein LLM mit dem der Agent ausgeführt werden soll. \n",
    "\n",
    "Wichtig ist hierbei, dass das Sprachmodell auf die Ausführung von Agenten-Logik trainiert sein muss. Wir verwenden in diesem Beispiel die Modelle von OpenAI, da diese optimal für die Ausführung von Agenten-Logik geeignet sind.\n",
    "\n",
    "Wie vorab erwähnt, nutzen wir einen Prebuilt Agent-Executor, in diesem Beispiel einen der OpenAI Functions ausführen kann.\n",
    "\n",
    "Nach Ausführung des Agenten bekommen wir die einzelnen Schritte zurück, die der Agent durchgeführt hat."
   ]
  },
  {
   "cell_type": "code",
   "execution_count": 10,
   "id": "6fcb3469",
   "metadata": {},
   "outputs": [
    {
     "name": "stdout",
     "output_type": "stream",
     "text": [
      "{'messages': [AIMessage(content='', additional_kwargs={'function_call': {'arguments': '{\"query\":\"Dieter Bohlen Geburtstag\"}', 'name': 'duckduckgo_search'}})]}\n",
      "-----\n",
      "{'messages': [FunctionMessage(content='Dieter Bohlen. wurde am 7. Februar 1954 geboren. Dieter Bohlen ist ein deutscher Musiker, Sänger, Komponist und Produzent, der mit „Modern Talking\" (1984-1987, 1998-2003, u. a. „You\\'re My Heart, You\\'re My Soul\" 1984) bekannt wurde und mit „Deutschland sucht den Superstar\" und „Das Supertalent\" über fast zwei Jahrzehnte ... Anlässlich seines Jubiläums präsentiert SWR Schlager die wichtigsten Songs des Poptitans, die er für die Teilnehmer von \"Deutschland sucht den Superstar\" geschrieben hat. Von Alexander Klaws bis Pietro Lombardi, von Steve Benson bis Ramon Roselly - hier sind die Bohlen-Hits im (Pop-)Schlager. Auch Dieter Bohlen hat nun allerdings ein mythisches Alter erreicht. Fit, braun gebrannt wie eh und je, feiert er heute seinen siebzigsten Geburtstag. Wäre es da nicht an der Zeit, sich aus der ... Pop-Titan Dieter Bohlen machte nicht nur mit seiner Musik Schlagzeilen, sondern auch mit seinen beißenden Juror-Sprüchen. Doch bei seiner Party zum 70. Geburtstag stand ein strahlender Gastgeber ... Dieter Bohlen spricht zum 70. Geburtstag über Hochzeitspläne. Dieter Bohlen. 05.02.2024. Auch Bohlen selbst, der 70-Jährige, blond wie immer, im schwarz glitzernden Anzug - und je länger der ...', name='duckduckgo_search')]}\n",
      "-----\n",
      "{'messages': [AIMessage(content='', additional_kwargs={'function_call': {'arguments': '{\"query\":\"Carina Walz Geburtstag\"}', 'name': 'duckduckgo_search'}})]}\n",
      "-----\n",
      "{'messages': [FunctionMessage(content='Dieter Bohlen und Carina Walz lernten sich vor 18 Jahren in einem Club auf Mallorca kennen, damals habe Bohlen nicht erwartet, dass sie \"mal so ein glückliches Paar werden würden\". Dieter Bohlen \"Mein Schatzi\": So süß gratuliert er seiner Carina zum Geburtstag von BUNTE.de Redaktion. 23.08.2023, 23. August 2023 um 10:41 ... Carina Walz (39). Der Pop-Titan und seine ... Dieter Bohlen und seine Freundin Carina Walz sind seit über 17 Jahren zusammen, haben zwei gemeinsame Kinder. Foto: imago/Spöttel Picture Seit nunmehr 18 Jahren gehen Dieter Bohlen (69) und seine Carina Walz (39) gemeinsam durchs Leben. Doch sein Glück will der Pop-Titan schon ganz bald besiegeln. Denn nach den zwei gemeinsamen Söhnen (10 und 12) sollen nun endlich die Hochzeitsglocken läuten. Stolz verkündet der DSDS -Juror der «Bild»: «Carina und ich werden heiraten. Seit 2006 sind Dieter Bohlen und Carina Walz ein Paar. Kurz vor seinem 70. Geburtstag hat der Pop-Titan nun angekündigt, seine langjährige Partnerin heiraten zu wollen.', name='duckduckgo_search')]}\n",
      "-----\n",
      "{'messages': [AIMessage(content='Dieter Bohlen wurde am 7. Februar 1954 geboren. Seine Frau, Carina Walz, ist 39 Jahre alt; da Informationen zu ihrem genauen Geburtstag in den Suchergebnissen fehlen, nehme ich an, dass sie im Jahr 2023 39 Jahre alt ist, was bedeutet, sie wäre im Jahr 1984 geboren.\\n\\nDie Altersdifferenz zwischen Dieter Bohlen und Carina Walz beträgt demnach etwa 70 (Dieters Alter zum Zeitpunkt des 70. Geburtstags im Jahr 2024) minus 39, also etwa 31 Jahre. Beachten Sie bitte, dass ohne den genauen Geburtstag von Carina Walz die Altersdifferenz auf dem wahrscheinlichsten geschätzten Alter basiert.')]}\n",
      "-----\n",
      "{'messages': [HumanMessage(content='Wann wurde Dieter Bohlen geboren? Wann seine Frau? Was ist die Altersdifferenz?'), AIMessage(content='', additional_kwargs={'function_call': {'arguments': '{\"query\":\"Dieter Bohlen Geburtstag\"}', 'name': 'duckduckgo_search'}}), FunctionMessage(content='Dieter Bohlen. wurde am 7. Februar 1954 geboren. Dieter Bohlen ist ein deutscher Musiker, Sänger, Komponist und Produzent, der mit „Modern Talking\" (1984-1987, 1998-2003, u. a. „You\\'re My Heart, You\\'re My Soul\" 1984) bekannt wurde und mit „Deutschland sucht den Superstar\" und „Das Supertalent\" über fast zwei Jahrzehnte ... Anlässlich seines Jubiläums präsentiert SWR Schlager die wichtigsten Songs des Poptitans, die er für die Teilnehmer von \"Deutschland sucht den Superstar\" geschrieben hat. Von Alexander Klaws bis Pietro Lombardi, von Steve Benson bis Ramon Roselly - hier sind die Bohlen-Hits im (Pop-)Schlager. Auch Dieter Bohlen hat nun allerdings ein mythisches Alter erreicht. Fit, braun gebrannt wie eh und je, feiert er heute seinen siebzigsten Geburtstag. Wäre es da nicht an der Zeit, sich aus der ... Pop-Titan Dieter Bohlen machte nicht nur mit seiner Musik Schlagzeilen, sondern auch mit seinen beißenden Juror-Sprüchen. Doch bei seiner Party zum 70. Geburtstag stand ein strahlender Gastgeber ... Dieter Bohlen spricht zum 70. Geburtstag über Hochzeitspläne. Dieter Bohlen. 05.02.2024. Auch Bohlen selbst, der 70-Jährige, blond wie immer, im schwarz glitzernden Anzug - und je länger der ...', name='duckduckgo_search'), AIMessage(content='', additional_kwargs={'function_call': {'arguments': '{\"query\":\"Carina Walz Geburtstag\"}', 'name': 'duckduckgo_search'}}), FunctionMessage(content='Dieter Bohlen und Carina Walz lernten sich vor 18 Jahren in einem Club auf Mallorca kennen, damals habe Bohlen nicht erwartet, dass sie \"mal so ein glückliches Paar werden würden\". Dieter Bohlen \"Mein Schatzi\": So süß gratuliert er seiner Carina zum Geburtstag von BUNTE.de Redaktion. 23.08.2023, 23. August 2023 um 10:41 ... Carina Walz (39). Der Pop-Titan und seine ... Dieter Bohlen und seine Freundin Carina Walz sind seit über 17 Jahren zusammen, haben zwei gemeinsame Kinder. Foto: imago/Spöttel Picture Seit nunmehr 18 Jahren gehen Dieter Bohlen (69) und seine Carina Walz (39) gemeinsam durchs Leben. Doch sein Glück will der Pop-Titan schon ganz bald besiegeln. Denn nach den zwei gemeinsamen Söhnen (10 und 12) sollen nun endlich die Hochzeitsglocken läuten. Stolz verkündet der DSDS -Juror der «Bild»: «Carina und ich werden heiraten. Seit 2006 sind Dieter Bohlen und Carina Walz ein Paar. Kurz vor seinem 70. Geburtstag hat der Pop-Titan nun angekündigt, seine langjährige Partnerin heiraten zu wollen.', name='duckduckgo_search'), AIMessage(content='Dieter Bohlen wurde am 7. Februar 1954 geboren. Seine Frau, Carina Walz, ist 39 Jahre alt; da Informationen zu ihrem genauen Geburtstag in den Suchergebnissen fehlen, nehme ich an, dass sie im Jahr 2023 39 Jahre alt ist, was bedeutet, sie wäre im Jahr 1984 geboren.\\n\\nDie Altersdifferenz zwischen Dieter Bohlen und Carina Walz beträgt demnach etwa 70 (Dieters Alter zum Zeitpunkt des 70. Geburtstags im Jahr 2024) minus 39, also etwa 31 Jahre. Beachten Sie bitte, dass ohne den genauen Geburtstag von Carina Walz die Altersdifferenz auf dem wahrscheinlichsten geschätzten Alter basiert.')]}\n",
      "-----\n"
     ]
    }
   ],
   "source": [
    "from langgraph.prebuilt import chat_agent_executor\n",
    "from langchain_openai import ChatOpenAI\n",
    "from langchain_core.messages import HumanMessage\n",
    "from helpers import llm\n",
    "\n",
    "# app = chat_agent_executor.create_tool_calling_executor(llm, tools_executor)\n",
    "model = llm.with_config(configurable={\"llm\": \"azure\", \"temperature\": 1})\n",
    "app = chat_agent_executor.create_function_calling_executor(model, tools)\n",
    "\n",
    "inputs = {\"messages\": [HumanMessage(content=\"Wann wurde Dieter Bohlen geboren? Wann seine Frau? Was ist die Altersdifferenz?\")]}\n",
    "\n",
    "for s in app.stream(inputs):\n",
    "    print(list(s.values())[0])\n",
    "    print(\"-----\")\n"
   ]
  },
  {
   "cell_type": "markdown",
   "id": "98704058",
   "metadata": {},
   "source": [
    "In diesem Beispiel führen wir den zuvor definierten Agenten nochmals aus und streamen diesmal allerdings nur die finale Antwort des Agentenlauf raus. Dabei wird die Antwort Token für Token ausgegeben."
   ]
  },
  {
   "cell_type": "code",
   "execution_count": 11,
   "id": "45526dff",
   "metadata": {},
   "outputs": [
    {
     "name": "stdout",
     "output_type": "stream",
     "text": [
      "Dieter Bohlen wurde am 7. Februar 1954 geboren. Seine Frau, Carina Bohlen, wurde im Februar 1993 geboren. Die Altersdifferenz zwischen Dieter Bohlen und Carina Bohlen beträgt etwa 39 Jahre."
     ]
    }
   ],
   "source": [
    "model = ChatOpenAI(streaming=True)\n",
    "app = chat_agent_executor.create_function_calling_executor(model, tools)\n",
    "\n",
    "    \n",
    "async for output in app.astream_log(inputs, include_types=[\"llm\"]):\n",
    "    for op in output.ops:\n",
    "        if op[\"path\"] == \"/streamed_output/-\":\n",
    "            # this is the output from .stream()\n",
    "            ...\n",
    "        elif op[\"path\"].startswith(\"/logs/\") and op[\"path\"].endswith(\n",
    "            \"/streamed_output/-\"\n",
    "        ):\n",
    "            # because we chose to only include LLMs, these are LLM tokens\n",
    "            token_content = op[\"value\"].content\n",
    "            if token_content:\n",
    "                print(op[\"value\"].content, end=\"\", flush=True)"
   ]
  },
  {
   "cell_type": "markdown",
   "id": "1d935cc6",
   "metadata": {},
   "source": [
    "TODO: Jetzt noch mit dem Tool executor, nicht mit function executor"
   ]
  }
 ],
 "metadata": {
  "kernelspec": {
   "display_name": "Python 3 (ipykernel)",
   "language": "python",
   "name": "python3"
  },
  "language_info": {
   "codemirror_mode": {
    "name": "ipython",
    "version": 3
   },
   "file_extension": ".py",
   "mimetype": "text/x-python",
   "name": "python",
   "nbconvert_exporter": "python",
   "pygments_lexer": "ipython3",
   "version": "3.11.6"
  }
 },
 "nbformat": 4,
 "nbformat_minor": 5
}
