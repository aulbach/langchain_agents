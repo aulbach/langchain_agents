{
 "cells": [
  {
   "cell_type": "markdown",
   "id": "132e452d-dbfd-4a47-b762-14facd7dd054",
   "metadata": {},
   "source": [
    "# 🦜🔗 LangChain agent BabyAGI"
   ]
  },
  {
   "cell_type": "code",
   "execution_count": null,
   "id": "36cb5a09-69ce-4577-9fd0-92e92a4d2dcd",
   "metadata": {},
   "outputs": [],
   "source": [
    "%pip install -r requirements.txt"
   ]
  },
  {
   "cell_type": "code",
   "execution_count": null,
   "id": "7d53d5dd-bca0-4cfe-921e-08b7c37249e9",
   "metadata": {},
   "outputs": [],
   "source": [
    "import faiss\n",
    "from typing import Dict, List, Optional, Any\n",
    "from langchain import LLMChain, PromptTemplate\n",
    "from langchain.chat_models import AzureChatOpenAI\n",
    "from langchain.embeddings import AzureOpenAIEmbeddings\n",
    "from langchain_experimental.autonomous_agents import BabyAGI\n",
    "from langchain.vectorstores import FAISS\n",
    "from langchain.docstore import InMemoryDocstore\n",
    "from langchain.agents import ZeroShotAgent, Tool, AgentExecutor\n",
    "from langchain import SerpAPIWrapper\n",
    "\n",
    "from dotenv import load_dotenv\n",
    "\n",
    "load_dotenv()"
   ]
  },
  {
   "cell_type": "markdown",
   "id": "1d14141a-86a1-4720-a488-0d59561e66ff",
   "metadata": {},
   "source": [
    "Embeddings because we need to remember."
   ]
  },
  {
   "cell_type": "code",
   "execution_count": null,
   "id": "4754a795-a858-4bd1-a7a3-d09075beba62",
   "metadata": {},
   "outputs": [],
   "source": [
    "embeddings = AzureOpenAIEmbeddings(azure_deployment=\"text-embedding-ada-002\")\n",
    "\n",
    "embedding_size = 1536\n",
    "index = faiss.IndexFlatL2(embedding_size)\n",
    "vectorstore = FAISS(embeddings, index, InMemoryDocstore({}), {})"
   ]
  },
  {
   "cell_type": "markdown",
   "id": "76fa4e73-2f53-4597-aafe-2aeba7253072",
   "metadata": {},
   "source": [
    "A todo chain to generate proper todos."
   ]
  },
  {
   "cell_type": "code",
   "execution_count": null,
   "id": "9919af6a-2778-4366-871e-739115804010",
   "metadata": {},
   "outputs": [],
   "source": [
    "todo_prompt = PromptTemplate.from_template(\n",
    "    \"You are a planner who is an expert at coming up with a todo list for a given objective. You have a clear focus, so you write precise todos, but not more than 4. Come up with a todo list for this objective: {objective}\"\n",
    ")\n",
    "todo_chain = LLMChain(llm=AzureChatOpenAI(deployment_name=\"gpt-35-turbo\", \n",
    "                       api_version=\"2023-07-01-preview\",\n",
    "                       temperature=0), prompt=todo_prompt)"
   ]
  },
  {
   "cell_type": "markdown",
   "id": "a9e77774-964a-4203-ab34-1030f789ff57",
   "metadata": {},
   "source": [
    "We need tools!"
   ]
  },
  {
   "cell_type": "code",
   "execution_count": null,
   "id": "285d86b0-cc3b-4bf3-bfb5-9774c09b66c8",
   "metadata": {},
   "outputs": [],
   "source": [
    "search = SerpAPIWrapper()\n",
    "tools = [\n",
    "    Tool(\n",
    "        name=\"Search\",\n",
    "        func=search.run,\n",
    "        description=\"useful for when you need to answer questions about current events\",\n",
    "    ),\n",
    "    Tool(\n",
    "        name=\"TODO\",\n",
    "        func=todo_chain.run,\n",
    "        description=\"useful for when you need to come up with todo lists. Input: an objective to create a todo list for. Output: a todo list for that objective. Please be very clear what the objective is!\",\n",
    "    ),\n",
    "]"
   ]
  },
  {
   "cell_type": "markdown",
   "id": "5fb45e5f-f35a-456f-ab67-8a9d326e66aa",
   "metadata": {},
   "source": [
    "Setup the prompt for the agent"
   ]
  },
  {
   "cell_type": "code",
   "execution_count": null,
   "id": "101d9bbe-c27e-49ce-a031-2ef13f52f34a",
   "metadata": {},
   "outputs": [],
   "source": [
    "prefix = \"\"\"You are an AI who performs one task based on the following objective: {objective}. Take into account these previously completed tasks: {context}.\"\"\"\n",
    "suffix = \"\"\"Question: {task}\n",
    "{agent_scratchpad}\"\"\"\n",
    "prompt = ZeroShotAgent.create_prompt(\n",
    "    tools,\n",
    "    prefix=prefix,\n",
    "    suffix=suffix,\n",
    "    input_variables=[\"objective\", \"task\", \"context\", \"agent_scratchpad\"],\n",
    ")"
   ]
  },
  {
   "cell_type": "markdown",
   "id": "f45b3dea-a561-4a4c-a352-451e9df307e5",
   "metadata": {},
   "source": [
    "Start the agent."
   ]
  },
  {
   "cell_type": "code",
   "execution_count": null,
   "id": "cb1f0a57-1951-4fcf-b7e8-1df2958cd4a8",
   "metadata": {},
   "outputs": [],
   "source": [
    "llm = AzureChatOpenAI(deployment_name=\"gpt-35-turbo\", \n",
    "                    api_version=\"2023-07-01-preview\",\n",
    "                    temperature=0)\n",
    "llm_chain = LLMChain(llm=llm, prompt=prompt)\n",
    "tool_names = [tool.name for tool in tools]\n",
    "agent = ZeroShotAgent(llm_chain=llm_chain, allowed_tools=tool_names)\n",
    "agent_executor = AgentExecutor.from_agent_and_tools(\n",
    "    agent=agent, tools=tools, verbose=True\n",
    ")\n",
    "max_iterations: Optional[int] = 5\n",
    "baby_agi = BabyAGI.from_llm(\n",
    "    llm=llm,\n",
    "    vectorstore=vectorstore,\n",
    "    task_execution_chain=agent_executor,\n",
    "    verbose=False,\n",
    "    max_iterations=max_iterations,\n",
    ")\n",
    "\n",
    "baby_agi({\"objective\": \"Write an euphoric blog article about the code.talks conference in hamburg.\"})"
   ]
  },
  {
   "cell_type": "markdown",
   "id": "75af698e-8de9-440f-80b2-291b50ee7b60",
   "metadata": {},
   "source": [
    "Feel free to send it on another mission :-)"
   ]
  }
 ],
 "metadata": {
  "kernelspec": {
   "display_name": "Python 3 (ipykernel)",
   "language": "python",
   "name": "python3"
  },
  "language_info": {
   "codemirror_mode": {
    "name": "ipython",
    "version": 3
   },
   "file_extension": ".py",
   "mimetype": "text/x-python",
   "name": "python",
   "nbconvert_exporter": "python",
   "pygments_lexer": "ipython3",
   "version": "3.11.5"
  }
 },
 "nbformat": 4,
 "nbformat_minor": 5
}
