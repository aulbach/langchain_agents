{
 "cells": [
  {
   "cell_type": "markdown",
   "metadata": {},
   "source": [
    "# 🦜🔗 LangChain agent interacting with gmail.\n",
    "\n",
    "Langchain stellt eine ganze Palette an Toolkits bereit die es Agenten ermöglicht, mit externen Services wie zum Beispiel Gmail, Office365, etc. zu interagieren.\n",
    "Ein Toolkit ist im Grunde eine Sammlung mehrerer Tools, die man gesammelt einem Agenten zur Verfügung stellt werden können.\n",
    "\n",
    "In diesem Beispiel wollen wir uns das GmailToolkit ansehen.\n"
   ]
  },
  {
   "cell_type": "code",
   "execution_count": 1,
   "metadata": {},
   "outputs": [],
   "source": [
    "# %pip install --upgrade --quiet  google-api-python-client > /dev/null\n",
    "# %pip install --upgrade --quiet  google-auth-oauthlib > /dev/null\n",
    "# %pip install --upgrade --quiet  google-auth-httplib2 > /dev/null"
   ]
  },
  {
   "cell_type": "code",
   "execution_count": 2,
   "metadata": {},
   "outputs": [
    {
     "data": {
      "text/plain": [
       "True"
      ]
     },
     "execution_count": 2,
     "metadata": {},
     "output_type": "execute_result"
    }
   ],
   "source": [
    "from dotenv import load_dotenv\n",
    "\n",
    "load_dotenv()"
   ]
  },
  {
   "cell_type": "markdown",
   "metadata": {},
   "source": [
    "Zuerst müssen wird das Toolkit konfigurieren, sodass es per Gmail API mit unserem Google Konto kommunizieren kann."
   ]
  },
  {
   "cell_type": "code",
   "execution_count": 3,
   "metadata": {},
   "outputs": [],
   "source": [
    "from langchain_community.tools.gmail.utils import (\n",
    "    build_resource_service,\n",
    "    get_gmail_credentials,\n",
    ")\n",
    "\n",
    "# Can review scopes here https://developers.google.com/gmail/api/auth/scopes\n",
    "# For instance, readonly scope is 'https://www.googleapis.com/auth/gmail.readonly'\n",
    "credentials = get_gmail_credentials(\n",
    "    token_file=\"token.json\",\n",
    "    scopes=[\"https://mail.google.com/\"],\n",
    "    client_secrets_file=\"credentials.json\",\n",
    ")\n",
    "api_resource = build_resource_service(credentials=credentials)"
   ]
  },
  {
   "cell_type": "markdown",
   "metadata": {},
   "source": [
    "Jetzt initialisieren wird das Toolkit und übergeben die vorher konfigurierten API Settings.\n",
    "\n",
    "Im Output sehen wir, welche Tools über das Toolkit bereit gestellt werden."
   ]
  },
  {
   "cell_type": "code",
   "execution_count": 4,
   "metadata": {},
   "outputs": [
    {
     "data": {
      "text/plain": [
       "[GmailCreateDraft(api_resource=<googleapiclient.discovery.Resource object at 0x10e3d8890>),\n",
       " GmailSendMessage(api_resource=<googleapiclient.discovery.Resource object at 0x10e3d8890>),\n",
       " GmailSearch(api_resource=<googleapiclient.discovery.Resource object at 0x10e3d8890>),\n",
       " GmailGetMessage(api_resource=<googleapiclient.discovery.Resource object at 0x10e3d8890>),\n",
       " GmailGetThread(api_resource=<googleapiclient.discovery.Resource object at 0x10e3d8890>)]"
      ]
     },
     "execution_count": 4,
     "metadata": {},
     "output_type": "execute_result"
    }
   ],
   "source": [
    "from langchain_community.agent_toolkits import GmailToolkit\n",
    "from langgraph.prebuilt import ToolExecutor\n",
    "\n",
    "toolkit = GmailToolkit(api_resource=api_resource)\n",
    "tools = toolkit.get_tools()\n",
    "tools_executor = ToolExecutor(tools)\n",
    "tools"
   ]
  },
  {
   "cell_type": "markdown",
   "metadata": {},
   "source": [
    "Als nächstes erstellen wir unseren Agenten Prompt. Hierzu laden wir einmal ein openai-functions-template aus dem hub.\n",
    "Zusätzlich legen wir noch instructions fest."
   ]
  },
  {
   "cell_type": "code",
   "execution_count": 5,
   "metadata": {},
   "outputs": [],
   "source": [
    "from langchain import hub\n",
    "from langchain.agents import create_openai_functions_agent\n",
    "from helpers import llm\n",
    "\n",
    "instructions = \"\"\"You are an email writer assistant.\"\"\"\n",
    "base_prompt = hub.pull(\"langchain-ai/openai-functions-template\")\n",
    "prompt = base_prompt.partial(instructions=instructions)"
   ]
  },
  {
   "cell_type": "markdown",
   "metadata": {},
   "source": [
    "Letzlich erstellen wir einen Langchain Graphen. Hier nutzen wir wieder einen prebuilt Graphen, den wir in diesem Schritt auch ausführen."
   ]
  },
  {
   "cell_type": "code",
   "execution_count": 6,
   "metadata": {},
   "outputs": [
    {
     "data": {
      "text/plain": [
       "{'input': 'Create an email draft to donald@trump.comm about a contract building a pyramid in Egypt. \\n            Please argue why we are the best company for the job. \\n            Under no circumstances may you send the message, however. ',\n",
       " 'chat_history': [],\n",
       " 'agent_outcome': AgentFinish(return_values={'output': 'The email draft to Donald Trump regarding the contract to build a pyramid in Egypt has been created. The draft includes arguments on why our company is the best for the job. \\n\\nPlease review the draft and make any changes if necessary before sending it.'}, log='The email draft to Donald Trump regarding the contract to build a pyramid in Egypt has been created. The draft includes arguments on why our company is the best for the job. \\n\\nPlease review the draft and make any changes if necessary before sending it.'),\n",
       " 'intermediate_steps': [(AgentActionMessageLog(tool='create_gmail_draft', tool_input={'message': 'Dear Donald Trump,\\n\\nI hope this email finds you well. We are reaching out to discuss the opportunity to work on a project to build a pyramid in Egypt. Our company, Pyramid Builders Inc., is highly experienced in constructing monumental structures and has a proven track record of delivering projects with exceptional quality and precision.\\n\\nHere are a few reasons why we believe we are the best company for the job:\\n\\n1. Expertise: With years of experience in the construction industry, our team of architects, engineers, and builders has the expertise and knowledge required to undertake a project of this scale.\\n\\n2. Quality Workmanship: We are committed to excellence in craftsmanship and attention to detail, ensuring that the pyramid is not only structurally sound but also aesthetically impressive.\\n\\n3. Timely Delivery: We understand the importance of meeting deadlines and will work diligently to ensure that the project is completed on schedule.\\n\\n4. Innovation: Our company embraces innovation and modern construction techniques, ensuring that the pyramid is built to stand the test of time.\\n\\nWe would be honored to be considered for this project and would welcome the opportunity to discuss our proposal in more detail.\\n\\nThank you for your time and consideration.\\n\\nSincerely,\\n[Your Name]\\nPyramid Builders Inc.', 'to': ['donald@trump.comm'], 'subject': 'Proposal for Building a Pyramid in Egypt'}, log=\"\\nInvoking: `create_gmail_draft` with `{'message': 'Dear Donald Trump,\\\\n\\\\nI hope this email finds you well. We are reaching out to discuss the opportunity to work on a project to build a pyramid in Egypt. Our company, Pyramid Builders Inc., is highly experienced in constructing monumental structures and has a proven track record of delivering projects with exceptional quality and precision.\\\\n\\\\nHere are a few reasons why we believe we are the best company for the job:\\\\n\\\\n1. Expertise: With years of experience in the construction industry, our team of architects, engineers, and builders has the expertise and knowledge required to undertake a project of this scale.\\\\n\\\\n2. Quality Workmanship: We are committed to excellence in craftsmanship and attention to detail, ensuring that the pyramid is not only structurally sound but also aesthetically impressive.\\\\n\\\\n3. Timely Delivery: We understand the importance of meeting deadlines and will work diligently to ensure that the project is completed on schedule.\\\\n\\\\n4. Innovation: Our company embraces innovation and modern construction techniques, ensuring that the pyramid is built to stand the test of time.\\\\n\\\\nWe would be honored to be considered for this project and would welcome the opportunity to discuss our proposal in more detail.\\\\n\\\\nThank you for your time and consideration.\\\\n\\\\nSincerely,\\\\n[Your Name]\\\\nPyramid Builders Inc.', 'to': ['donald@trump.comm'], 'subject': 'Proposal for Building a Pyramid in Egypt'}`\\n\\n\\n\", message_log=[AIMessage(content='', additional_kwargs={'function_call': {'arguments': '{\"message\":\"Dear Donald Trump,\\\\n\\\\nI hope this email finds you well. We are reaching out to discuss the opportunity to work on a project to build a pyramid in Egypt. Our company, Pyramid Builders Inc., is highly experienced in constructing monumental structures and has a proven track record of delivering projects with exceptional quality and precision.\\\\n\\\\nHere are a few reasons why we believe we are the best company for the job:\\\\n\\\\n1. Expertise: With years of experience in the construction industry, our team of architects, engineers, and builders has the expertise and knowledge required to undertake a project of this scale.\\\\n\\\\n2. Quality Workmanship: We are committed to excellence in craftsmanship and attention to detail, ensuring that the pyramid is not only structurally sound but also aesthetically impressive.\\\\n\\\\n3. Timely Delivery: We understand the importance of meeting deadlines and will work diligently to ensure that the project is completed on schedule.\\\\n\\\\n4. Innovation: Our company embraces innovation and modern construction techniques, ensuring that the pyramid is built to stand the test of time.\\\\n\\\\nWe would be honored to be considered for this project and would welcome the opportunity to discuss our proposal in more detail.\\\\n\\\\nThank you for your time and consideration.\\\\n\\\\nSincerely,\\\\n[Your Name]\\\\nPyramid Builders Inc.\",\"to\":[\"donald@trump.comm\"],\"subject\":\"Proposal for Building a Pyramid in Egypt\"}', 'name': 'create_gmail_draft'}})]),\n",
       "   'Draft created. Draft Id: r-5157427616995126480')]}"
      ]
     },
     "execution_count": 6,
     "metadata": {},
     "output_type": "execute_result"
    }
   ],
   "source": [
    "from langgraph.prebuilt import create_agent_executor\n",
    "\n",
    "model = llm(model=\"gpt-3.5-turbo\")\n",
    "agent_runnable = create_openai_functions_agent(model, tools, prompt)\n",
    "\n",
    "app = create_agent_executor(agent_runnable, tools)\n",
    "\n",
    "inputs = {\n",
    "    \"input\": \"\"\"Create an email draft to donald@trump.comm about a contract building a pyramid in Egypt. \n",
    "            Please argue why we are the best company for the job. \n",
    "            Under no circumstances may you send the message, however. \"\"\",\n",
    "    \"chat_history\": []\n",
    "}\n",
    "\n",
    "app.invoke(inputs)"
   ]
  }
 ],
 "metadata": {
  "kernelspec": {
   "display_name": "Python 3",
   "language": "python",
   "name": "python3"
  },
  "language_info": {
   "codemirror_mode": {
    "name": "ipython",
    "version": 3
   },
   "file_extension": ".py",
   "mimetype": "text/x-python",
   "name": "python",
   "nbconvert_exporter": "python",
   "pygments_lexer": "ipython3",
   "version": "3.11.7"
  }
 },
 "nbformat": 4,
 "nbformat_minor": 2
}
