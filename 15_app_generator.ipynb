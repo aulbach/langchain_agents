{
 "cells": [
  {
   "cell_type": "markdown",
   "metadata": {},
   "source": [
    "# Coding Assistant"
   ]
  },
  {
   "cell_type": "code",
   "execution_count": null,
   "metadata": {},
   "outputs": [],
   "source": [
    "%pip install -r requirements.txt"
   ]
  },
  {
   "cell_type": "code",
   "execution_count": null,
   "metadata": {},
   "outputs": [],
   "source": [
    "import os\n",
    "import re\n",
    "import sys\n",
    "from langchain.chat_models import AzureChatOpenAI\n",
    "from langchain.output_parsers import PydanticOutputParser\n",
    "from langchain.prompts import PromptTemplate\n",
    "from langchain.pydantic_v1 import BaseModel, Field, validator\n",
    "from langchain.tools import StructuredTool\n",
    "from typing import List\n",
    "from enum import Enum, IntEnum\n",
    "\n",
    "model =AzureChatOpenAI(deployment_name=\"gpt-4-32k\", temperature=0)\n",
    "application = \"command line fibonacci calculator\"\n",
    "technology = \"python\""
   ]
  },
  {
   "cell_type": "code",
   "execution_count": null,
   "metadata": {},
   "outputs": [],
   "source": [
    "# Create a featurelist for the tool we want to create\n",
    "class Feature(BaseModel):\n",
    "    feature: str = Field(description=\"The feature we want to create\")\n",
    "    description: str = Field(description=\"The description of the feature we want to create\")\n",
    "\n",
    "class Featurelist(BaseModel):\n",
    "    features: List[Feature] = Field(description=\"A list of features we want to create\")\n",
    "\n",
    "\n",
    "feature_parser = PydanticOutputParser(pydantic_object=Featurelist)\n",
    "\n",
    "# Create a prompt template for the tool we want to create\n",
    "feature_prompt = PromptTemplate(\n",
    "    template=\"I want to create a {application} using {technology}. Please give a short outline of which features should be implemented. .\\n{format_instructions}\\n\",\n",
    "    input_variables=[\"application\", \"technology\"],\n",
    "    partial_variables={\"format_instructions\": feature_parser.get_format_instructions()},\n",
    ")\n",
    "\n",
    "feature_chain = feature_prompt | model | feature_parser\n",
    "\n",
    "def get_features(application: str, technology: str) -> Featurelist:\n",
    "    \"\"\"Provide a featurelist for a given application and technology\"\"\"\n",
    "    features = feature_chain.invoke({\"application\": application, \n",
    "                                    \"technology\": technology})\n",
    "    return features\n",
    "\n",
    "features = StructuredTool.from_function(get_features)"
   ]
  },
  {
   "cell_type": "code",
   "execution_count": null,
   "metadata": {},
   "outputs": [],
   "source": [
    "# create a directory structure for the tool we want to create\n",
    "class File(BaseModel):\n",
    "    path: str = Field(description=\"The path of the file\")\n",
    "    responsibility: str = Field(description=\"The responsibility of the file, what it should contain and what the responsibility\")\n",
    "    dependencies: List[str] = Field(description=\"The other files this file depends on\")\n",
    "\n",
    "class Files(BaseModel):\n",
    "    files: List[File] = Field(description=\"A list of files we want to create\")\n",
    "\n",
    "file_parser = PydanticOutputParser(pydantic_object=Files) \n",
    "\n",
    "\n",
    "directory_prompt = PromptTemplate(\n",
    "    template=\"I want to create a {application} using {technology} with these features: {features}. List all the files that are needed and use this list to provide a file structure for this application. Describe what each file is responsible for and include supporting files like requirements.txt, README.md and setup files when needed: .\\n{format_instructions}\\n\",\n",
    "    input_variables=[\"application\", \"technology\", \"features\"],\n",
    "    partial_variables={\"format_instructions\": file_parser.get_format_instructions()},\n",
    ")\n",
    "\n",
    "def get_directory_structure(application: str, technology: str, features: Featurelist) -> Files:\n",
    "    \"\"\"Provide a file structure for a given application, technology and Features\"\"\"\n",
    "    feature_list = ', '.join([feature.feature for feature in features.features])\n",
    "    directory_chain = directory_prompt | model | file_parser\n",
    "    directory_entries = directory_chain.invoke({\"application\": application, \n",
    "                                                \"technology\": technology,\n",
    "                                                \"features\": feature_list})\n",
    "    return directory_entries\n",
    "\n",
    "directory = StructuredTool.from_function(get_directory_structure)"
   ]
  },
  {
   "cell_type": "code",
   "execution_count": null,
   "metadata": {},
   "outputs": [],
   "source": [
    "# create all the files for the tool we want to create\n",
    "base_dir = os.path.join(os.getcwd(), application + \"/\")\n",
    "features = get_features(application, technology)\n",
    "feature_list = ', '.join([feature.feature for feature in features.features])\n",
    "\n",
    "directory_entries = get_directory_structure(application, technology, features)\n",
    "\n",
    "files_to_create = directory_entries.files.copy()    \n",
    "\n",
    "code_prompt = PromptTemplate(\n",
    "    template=\"I want to create a {application} using {technology} with these features: {features}. Please provide the contents for the file {file}, which is responsible for {responsibility}.  Please include inline documentation where needed. \\n\",\n",
    "    input_variables=[\"application\", \"technology\", \"file\", \"responsibility\", \"features\"],\n",
    ")\n",
    "\n",
    "code_chain = code_prompt | model\n",
    "def get_code(application: str, technology: str, file: File, features: str) -> str:\n",
    "    print(f\"Getting code for file {file.path}\")\n",
    "    code = code_chain.invoke({\"application\": application,\n",
    "                              \"technology\": technology,\n",
    "                              \"file\": file.path,\n",
    "                              \"responsibility\": file.responsibility,\n",
    "                              \"features\": features})\n",
    "    pattern = \"```(.*?)(.+)```\"    \n",
    "    result = re.search(pattern, code.content, re.DOTALL).group(2)\n",
    "\n",
    "    print(f\"Code for file {file.path} is {result}\")    \n",
    "    sys.exit()\n",
    "    return result\n",
    "\n",
    "\n",
    "def create_file(file: File):\n",
    "    print(f\"Creating file {file.path}\")\n",
    "    for dependency in file.dependencies:\n",
    "        print(f\"Checking if dependency {dependency} exists\")        \n",
    "        dependency_file = next((f for f in directory_entries.files if f.path == dependency), None)\n",
    "        print(f\"Creating dependency file {dependency_file.path} first\")\n",
    "        create_file(dependency_file)\n",
    "    if not os.path.dirname(base_dir + file.path) == \"\":\n",
    "        os.makedirs(os.path.dirname(base_dir + file.path), exist_ok=True)\n",
    "    with open(base_dir + file.path, \"w\") as f:\n",
    "        code = get_code(application, technology, file, feature_list)\n",
    "        f.write(code)\n",
    "        file_to_remove = next((f for f in files_to_create if f.path == file.path), None)\n",
    "        if file_to_remove:\n",
    "            files_to_create.remove(file_to_remove)\n",
    "\n",
    "while len(files_to_create) > 0:\n",
    "    create_file(files_to_create[0])"
   ]
  },
  {
   "cell_type": "code",
   "execution_count": null,
   "metadata": {},
   "outputs": [],
   "source": []
  }
 ],
 "metadata": {
  "kernelspec": {
   "display_name": "base",
   "language": "python",
   "name": "python3"
  },
  "language_info": {
   "codemirror_mode": {
    "name": "ipython",
    "version": 3
   },
   "file_extension": ".py",
   "mimetype": "text/x-python",
   "name": "python",
   "nbconvert_exporter": "python",
   "pygments_lexer": "ipython3",
   "version": "3.11.6"
  }
 },
 "nbformat": 4,
 "nbformat_minor": 4
}
