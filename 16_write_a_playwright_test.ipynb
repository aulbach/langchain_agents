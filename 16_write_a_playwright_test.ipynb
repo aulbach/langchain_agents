{
 "cells": [
  {
   "cell_type": "markdown",
   "metadata": {},
   "source": [
    "# 🦜🔗 LangChain Playwright test creator"
   ]
  },
  {
   "cell_type": "code",
   "execution_count": null,
   "metadata": {},
   "outputs": [],
   "source": [
    "%pip install playwright > /dev/null\n",
    "%pip install  lxml\n",
    "\n",
    "!playwright install"
   ]
  },
  {
   "cell_type": "code",
   "execution_count": null,
   "metadata": {},
   "outputs": [],
   "source": [
    "import re\n",
    "from langchain.agents.agent_toolkits import PlayWrightBrowserToolkit\n",
    "from langchain.tools.playwright.utils import (\n",
    "    create_async_playwright_browser,  # A synchronous browser is available, though it isn't compatible with jupyter.\n",
    ")\n",
    "from langchain.agents import AgentType, initialize_agent\n",
    "from langchain.chat_models import AzureChatOpenAI\n",
    "from langchain.prompts import PromptTemplate\n",
    "from langchain.tools import StructuredTool\n",
    "from langchain.schema.output_parser import StrOutputParser\n",
    "\n",
    "\n",
    "\n",
    "# This import is required only for jupyter notebooks, since they have their own eventloop\n",
    "import asyncio\n",
    "import nest_asyncio\n",
    "\n",
    "nest_asyncio.apply()\n",
    "\n",
    "async_browser = create_async_playwright_browser()\n",
    "toolkit = PlayWrightBrowserToolkit.from_browser(async_browser=async_browser)\n",
    "tools = toolkit.get_tools()\n",
    "tools_by_name = {tool.name: tool for tool in tools}\n",
    "get_elements_tool = tools_by_name[\"get_elements\"]\n",
    "\n"
   ]
  },
  {
   "cell_type": "code",
   "execution_count": null,
   "metadata": {},
   "outputs": [],
   "source": [
    "\n",
    "llm=AzureChatOpenAI(deployment_name=\"gpt-4-32k\", \n",
    "                       api_version=\"2023-07-01-preview\",\n",
    "                       temperature=0)\n",
    "\n",
    "output_parser = StrOutputParser()\n",
    "\n",
    "tools_by_name = {tool.name: tool for tool in tools}\n",
    "current_webpage_tool = tools_by_name[\"current_webpage\"]\n",
    "\n",
    "async def get_source(url):\n",
    "    page = await current_webpage_tool.async_browser.new_page()\n",
    "    await page.goto(url)\n",
    "    content = await page.content()\n",
    "    return content\n",
    "\n",
    "gen_test_prompt = PromptTemplate(\n",
    "    template=\"\"\"\n",
    "You are a QA assistant AI generating typescript playwright code to provide end to end tests\n",
    "for a web application. \n",
    "Please create a playwright typescript test for the url {url}.\n",
    "The test should provide this functionality: {functionality}\n",
    "Return the typescript code using markup notation.\n",
    "The source code for the url above is: \n",
    "------------------- BEGIN SOURCE CODE -------------------\n",
    "{source}\n",
    "------------------- END SOURCE CODE -------------------\n",
    "\"\"\",\n",
    "    input_variables=[\"url\", \"functionality\", \"source\"])\n",
    "\n",
    "\n",
    "def create_playwright_test(url: str, functionality: str) -> str:\n",
    "    \"\"\" Writes a playwright test for a given url and a detailed description of the functionality of this test. \"\"\"\n",
    "    loop = asyncio.get_event_loop()\n",
    "    source = loop.run_until_complete(get_source(url))\n",
    "    chain = gen_test_prompt | llm | output_parser\n",
    "    result = chain.run(url=url, functionality=functionality, source=source)\n",
    "    code = re.search(\"```(.+?)\\n(.+)```\" , result, re.DOTALL).group(2)\n",
    "    return code\n",
    "\n",
    "\n",
    "\n",
    "create_test = StructuredTool.from_function(create_playwright_test)\n",
    "\n",
    "tools.append(create_test)"
   ]
  },
  {
   "cell_type": "code",
   "execution_count": null,
   "metadata": {},
   "outputs": [],
   "source": [
    "# Structured tools are compatible with the STRUCTURED_CHAT_ZERO_SHOT_REACT_DESCRIPTION agent type.\n",
    "agent_chain = initialize_agent(\n",
    "    tools,\n",
    "    llm,\n",
    "    agent=AgentType.STRUCTURED_CHAT_ZERO_SHOT_REACT_DESCRIPTION,\n",
    "    verbose=True,\n",
    ")\n",
    "\n",
    "result = await agent_chain.arun(\"Have a look at the page https://bahn.de. Recommend 3 end-to-end tests for this page for playwright and create them.\")\n",
    "print(result)"
   ]
  },
  {
   "cell_type": "code",
   "execution_count": null,
   "metadata": {},
   "outputs": [],
   "source": []
  }
 ],
 "metadata": {
  "kernelspec": {
   "display_name": "Python 3 (ipykernel)",
   "language": "python",
   "name": "python3"
  },
  "language_info": {
   "codemirror_mode": {
    "name": "ipython",
    "version": 3
   },
   "file_extension": ".py",
   "mimetype": "text/x-python",
   "name": "python",
   "nbconvert_exporter": "python",
   "pygments_lexer": "ipython3",
   "version": "3.11.5"
  }
 },
 "nbformat": 4,
 "nbformat_minor": 4
}
