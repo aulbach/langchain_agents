{
 "cells": [
  {
   "cell_type": "markdown",
   "id": "c09b70cd-bb8a-4e83-8642-710a2ee60a97",
   "metadata": {},
   "source": [
    "# 🦜🔗 Langchain agent with new architecture\n",
    "\n",
    "Welcome! This example creates an agent based on the new architecture"
   ]
  },
  {
   "cell_type": "code",
   "execution_count": null,
   "id": "663bf32c-ae02-409e-9a56-a9ebf31d0dd9",
   "metadata": {
    "scrolled": true
   },
   "outputs": [],
   "source": [
    "%pip install -r requirements.txt"
   ]
  },
  {
   "cell_type": "code",
   "execution_count": null,
   "id": "f1606539-a704-4568-af97-58715e1e69d0",
   "metadata": {},
   "outputs": [],
   "source": [
    "from langchain.agents import tool, AgentExecutor\n",
    "from langchain.schema.agent import AgentFinish\n",
    "from langchain.chat_models import ChatOpenAI\n",
    "from langchain.prompts import ChatPromptTemplate, MessagesPlaceholder\n",
    "from langchain.tools.render import format_tool_to_openai_function\n",
    "from langchain.agents.format_scratchpad import format_to_openai_functions\n",
    "from langchain.agents.output_parsers import OpenAIFunctionsAgentOutputParser\n",
    "from langchain.schema.messages import HumanMessage, AIMessage\n",
    "from dotenv import load_dotenv\n",
    "\n",
    "load_dotenv()"
   ]
  },
  {
   "cell_type": "code",
   "execution_count": null,
   "id": "7bf3f82a-61b5-4f00-98e1-477fc6529a7b",
   "metadata": {},
   "outputs": [],
   "source": [
    "llm = ChatOpenAI(temperature=0)\n",
    "\n",
    "@tool\n",
    "def get_word_length(word: str) -> int:\n",
    "    \"\"\"Returns the length of a word.\"\"\"\n",
    "    return len(word)\n",
    "\n",
    "tools = [get_word_length]\n"
   ]
  },
  {
   "cell_type": "code",
   "execution_count": null,
   "id": "916dcfcf-d6fc-4c50-9c2e-818ca6435455",
   "metadata": {},
   "outputs": [],
   "source": [
    "prompt = ChatPromptTemplate.from_messages([\n",
    "    (\"system\", \"You are very powerful assistant, but bad at calculating lengths of words.\"),\n",
    "    (\"user\", \"{input}\"),\n",
    "    MessagesPlaceholder(variable_name=\"agent_scratchpad\"),\n",
    "])"
   ]
  },
  {
   "cell_type": "code",
   "execution_count": null,
   "id": "c0f63e75-36c1-465e-b351-13711bb0e230",
   "metadata": {},
   "outputs": [],
   "source": [
    "llm_with_tools = llm.bind(\n",
    "    functions=[format_tool_to_openai_function(t) for t in tools]\n",
    ")"
   ]
  },
  {
   "cell_type": "code",
   "execution_count": null,
   "id": "f826fc82-a08b-4c82-a4b8-55ececc5065f",
   "metadata": {},
   "outputs": [],
   "source": [
    "agent = {\n",
    "    \"input\": lambda x: x[\"input\"],\n",
    "    \"agent_scratchpad\": lambda x: format_to_openai_functions(x['intermediate_steps'])\n",
    "} | prompt | llm_with_tools | OpenAIFunctionsAgentOutputParser()"
   ]
  },
  {
   "cell_type": "code",
   "execution_count": null,
   "id": "2f2614de-2ed0-4d41-81cc-5cd6d7c4cc60",
   "metadata": {},
   "outputs": [],
   "source": [
    "agent.invoke({\n",
    "    \"input\": \"how many letters in the word educa?\",\n",
    "    \"intermediate_steps\": []\n",
    "})"
   ]
  },
  {
   "cell_type": "code",
   "execution_count": null,
   "id": "3227e12d-423d-4849-b9b4-ad24d2d10085",
   "metadata": {},
   "outputs": [],
   "source": [
    "\n",
    "intermediate_steps = []\n",
    "while True:\n",
    "    output = agent.invoke({\n",
    "        \"input\": \"how many letters in the word educa?\",\n",
    "        \"intermediate_steps\": intermediate_steps\n",
    "    })\n",
    "    if isinstance(output, AgentFinish):\n",
    "        final_result = output.return_values[\"output\"]\n",
    "        break\n",
    "    else:\n",
    "        print(output.tool, output.tool_input)\n",
    "        tool = {\n",
    "            \"get_word_length\": get_word_length\n",
    "        }[output.tool]\n",
    "        observation = tool.run(output.tool_input)\n",
    "        intermediate_steps.append((output, observation))\n",
    "print(final_result)"
   ]
  },
  {
   "cell_type": "code",
   "execution_count": null,
   "id": "6bc09fba-81b1-45a6-9327-9ecd9bf1e046",
   "metadata": {},
   "outputs": [],
   "source": [
    "MEMORY_KEY = \"chat_history\"\n",
    "prompt = ChatPromptTemplate.from_messages([\n",
    "    (\"system\", \"You are very powerful assistant, but bad at calculating lengths of words.\"),\n",
    "    MessagesPlaceholder(variable_name=MEMORY_KEY),\n",
    "    (\"user\", \"{input}\"),\n",
    "    MessagesPlaceholder(variable_name=\"agent_scratchpad\"),\n",
    "])\n",
    "chat_history = []"
   ]
  },
  {
   "cell_type": "code",
   "execution_count": null,
   "id": "e1c60a0d-a56a-44f5-9568-9de950021c4b",
   "metadata": {},
   "outputs": [],
   "source": [
    "agent = {\n",
    "    \"input\": lambda x: x[\"input\"],\n",
    "    \"agent_scratchpad\": lambda x: format_to_openai_functions(x['intermediate_steps']),\n",
    "    \"chat_history\": lambda x: x[\"chat_history\"]\n",
    "} | prompt | llm_with_tools | OpenAIFunctionsAgentOutputParser()\n",
    "agent_executor = AgentExecutor(agent=agent, tools=tools, verbose=True)"
   ]
  },
  {
   "cell_type": "code",
   "execution_count": null,
   "id": "476c08d2-1d93-40fe-b9bf-47ea8c5dbde6",
   "metadata": {},
   "outputs": [],
   "source": [
    "input1 = \"how many letters in the word educa?\"\n",
    "result = agent_executor.invoke({\"input\": input1, \"chat_history\": chat_history})\n",
    "chat_history.append(HumanMessage(content=input1))\n",
    "chat_history.append(AIMessage(content=result['output']))\n",
    "agent_executor.invoke({\"input\": \"is that a real word?\", \"chat_history\": chat_history})"
   ]
  },
  {
   "cell_type": "code",
   "execution_count": null,
   "id": "e793878d-e225-48fa-a799-26381946599a",
   "metadata": {},
   "outputs": [],
   "source": []
  }
 ],
 "metadata": {
  "kernelspec": {
   "display_name": "Python 3 (ipykernel)",
   "language": "python",
   "name": "python3"
  },
  "language_info": {
   "codemirror_mode": {
    "name": "ipython",
    "version": 3
   },
   "file_extension": ".py",
   "mimetype": "text/x-python",
   "name": "python",
   "nbconvert_exporter": "python",
   "pygments_lexer": "ipython3",
   "version": "3.11.5"
  }
 },
 "nbformat": 4,
 "nbformat_minor": 5
}
