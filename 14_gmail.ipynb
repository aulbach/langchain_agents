{
 "cells": [
  {
   "cell_type": "markdown",
   "metadata": {},
   "source": [
    "# 🦜🔗 LangChain agent interacting with gmail.\n",
    "\n",
    "Langchain stellt eine ganze Palette an Toolkits bereit die es Agenten ermöglicht, mit externen Services wie zum Beispiel Gmail, Office365, etc. zu interagieren.\n",
    "Ein Toolkit ist im Grunde eine Sammlung mehrerer Tools, die man gesammelt einem Agenten zur Verfügung stellt werden können.\n",
    "\n",
    "In diesem Beispiel wollen wir uns das GmailToolkit ansehen.\n"
   ]
  },
  {
   "cell_type": "markdown",
   "metadata": {},
   "source": [
    "Zuerst müssen wird das Toolkit konfigurieren, sodass es per Gmail API mit unserem Google Konto kommunizieren kann.\n"
   ]
  },
  {
   "cell_type": "code",
   "execution_count": 3,
   "metadata": {},
   "outputs": [
    {
     "name": "stdout",
     "output_type": "stream",
     "text": [
      "Please visit this URL to authorize this application: https://accounts.google.com/o/oauth2/auth?response_type=code&client_id=252380726574-ufufr4qsvtskmg32935k4r8p6r4m6aot.apps.googleusercontent.com&redirect_uri=http%3A%2F%2Flocalhost%3A59453%2F&scope=https%3A%2F%2Fmail.google.com%2F&state=YwwYQKlgzvu1OTmKbG9j5dzgrNVLaC&access_type=offline\n"
     ]
    }
   ],
   "source": [
    "from langchain_community.tools.gmail.utils import (\n",
    "    build_resource_service,\n",
    "    get_gmail_credentials,\n",
    ")\n",
    "\n",
    "# Can review scopes here https://developers.google.com/gmail/api/auth/scopes\n",
    "# For instance, readonly scope is 'https://www.googleapis.com/auth/gmail.readonly'\n",
    "credentials = get_gmail_credentials(\n",
    "    token_file=\"token.json\",\n",
    "    scopes=[\"https://mail.google.com/\"],\n",
    "    client_secrets_file=\"credentials.json\",\n",
    ")\n",
    "api_resource = build_resource_service(credentials=credentials)"
   ]
  },
  {
   "cell_type": "markdown",
   "metadata": {},
   "source": [
    "Jetzt initialisieren wird das Toolkit und übergeben die vorher konfigurierten API Settings.\n",
    "\n",
    "Im Output sehen wir, welche Tools über das Toolkit bereit gestellt werden.\n"
   ]
  },
  {
   "cell_type": "code",
   "execution_count": 4,
   "metadata": {},
   "outputs": [
    {
     "data": {
      "text/plain": [
       "[GmailCreateDraft(api_resource=<googleapiclient.discovery.Resource object at 0x7fc1aa2e8b10>),\n",
       " GmailSendMessage(api_resource=<googleapiclient.discovery.Resource object at 0x7fc1aa2e8b10>),\n",
       " GmailSearch(api_resource=<googleapiclient.discovery.Resource object at 0x7fc1aa2e8b10>),\n",
       " GmailGetMessage(api_resource=<googleapiclient.discovery.Resource object at 0x7fc1aa2e8b10>),\n",
       " GmailGetThread(api_resource=<googleapiclient.discovery.Resource object at 0x7fc1aa2e8b10>)]"
      ]
     },
     "execution_count": 4,
     "metadata": {},
     "output_type": "execute_result"
    }
   ],
   "source": [
    "from langchain_community.agent_toolkits import GmailToolkit\n",
    "from langgraph.prebuilt import ToolExecutor\n",
    "\n",
    "toolkit = GmailToolkit(api_resource=api_resource)\n",
    "tools = toolkit.get_tools()\n",
    "tools_executor = ToolExecutor(tools)\n",
    "tools"
   ]
  },
  {
   "cell_type": "markdown",
   "metadata": {},
   "source": [
    "Als nächstes erstellen wir unseren Agenten Prompt. Hierzu laden wir einmal ein openai-functions-template aus dem hub.\n",
    "Zusätzlich legen wir noch instructions fest.\n"
   ]
  },
  {
   "cell_type": "code",
   "execution_count": 5,
   "metadata": {},
   "outputs": [],
   "source": [
    "from langchain import hub\n",
    "from langchain.agents import create_openai_functions_agent\n",
    "from helpers import llm\n",
    "\n",
    "instructions = \"\"\"You are an email writer assistant.\"\"\"\n",
    "base_prompt = hub.pull(\"langchain-ai/openai-functions-template\")\n",
    "prompt = base_prompt.partial(instructions=instructions)"
   ]
  },
  {
   "cell_type": "markdown",
   "metadata": {},
   "source": [
    "Letzlich erstellen wir einen Langchain Graphen. Hier nutzen wir wieder einen prebuilt Graphen, den wir in diesem Schritt auch ausführen.\n"
   ]
  },
  {
   "cell_type": "code",
   "execution_count": 6,
   "metadata": {},
   "outputs": [
    {
     "data": {
      "text/plain": [
       "{'input': 'Create an email draft to donald@trump.comm about a contract building a pyramid in Egypt.\\n            Please argue why we are the best company for the job.\\n            Under no circumstances may you send the message, however. ',\n",
       " 'chat_history': [],\n",
       " 'agent_outcome': AgentFinish(return_values={'output': 'I have created a draft email addressed to Donald Trump regarding the contract to build a pyramid in Egypt. The draft includes arguments on why our company is the best choice for the job. You can review the draft in your email drafts folder, but please do not send it under any circumstances.'}, log='I have created a draft email addressed to Donald Trump regarding the contract to build a pyramid in Egypt. The draft includes arguments on why our company is the best choice for the job. You can review the draft in your email drafts folder, but please do not send it under any circumstances.'),\n",
       " 'intermediate_steps': [(AgentActionMessageLog(tool='create_gmail_draft', tool_input={'message': 'Dear Donald Trump,\\n\\nI hope this message finds you well. We are excited to present our company as the best choice for the contract to build a pyramid in Egypt. Our team has a proven track record of successfully completing large-scale construction projects with precision and excellence. We have the expertise, experience, and dedication to ensure the successful construction of the pyramid.\\n\\nHere are a few reasons why we believe we are the best company for the job:\\n1. Expertise in large-scale construction projects\\n2. Skilled and experienced team members\\n3. Commitment to quality and timeliness\\n4. Attention to detail and precision in every aspect of the project\\n5. Strong reputation in the construction industry\\n\\nWe are confident that our company can deliver exceptional results and bring your vision to life. Please consider us for this prestigious project.\\n\\nThank you for your time and consideration.\\n\\nSincerely,\\n[Your Name]\\n[Your Position]\\n[Your Company]', 'to': ['donald@trump.comm'], 'subject': 'Proposal for Building a Pyramid in Egypt'}, log=\"\\nInvoking: `create_gmail_draft` with `{'message': 'Dear Donald Trump,\\\\n\\\\nI hope this message finds you well. We are excited to present our company as the best choice for the contract to build a pyramid in Egypt. Our team has a proven track record of successfully completing large-scale construction projects with precision and excellence. We have the expertise, experience, and dedication to ensure the successful construction of the pyramid.\\\\n\\\\nHere are a few reasons why we believe we are the best company for the job:\\\\n1. Expertise in large-scale construction projects\\\\n2. Skilled and experienced team members\\\\n3. Commitment to quality and timeliness\\\\n4. Attention to detail and precision in every aspect of the project\\\\n5. Strong reputation in the construction industry\\\\n\\\\nWe are confident that our company can deliver exceptional results and bring your vision to life. Please consider us for this prestigious project.\\\\n\\\\nThank you for your time and consideration.\\\\n\\\\nSincerely,\\\\n[Your Name]\\\\n[Your Position]\\\\n[Your Company]', 'to': ['donald@trump.comm'], 'subject': 'Proposal for Building a Pyramid in Egypt'}`\\n\\n\\n\", message_log=[AIMessage(content='', additional_kwargs={'function_call': {'arguments': '{\"message\":\"Dear Donald Trump,\\\\n\\\\nI hope this message finds you well. We are excited to present our company as the best choice for the contract to build a pyramid in Egypt. Our team has a proven track record of successfully completing large-scale construction projects with precision and excellence. We have the expertise, experience, and dedication to ensure the successful construction of the pyramid.\\\\n\\\\nHere are a few reasons why we believe we are the best company for the job:\\\\n1. Expertise in large-scale construction projects\\\\n2. Skilled and experienced team members\\\\n3. Commitment to quality and timeliness\\\\n4. Attention to detail and precision in every aspect of the project\\\\n5. Strong reputation in the construction industry\\\\n\\\\nWe are confident that our company can deliver exceptional results and bring your vision to life. Please consider us for this prestigious project.\\\\n\\\\nThank you for your time and consideration.\\\\n\\\\nSincerely,\\\\n[Your Name]\\\\n[Your Position]\\\\n[Your Company]\",\"to\":[\"donald@trump.comm\"],\"subject\":\"Proposal for Building a Pyramid in Egypt\"}', 'name': 'create_gmail_draft'}}, response_metadata={'finish_reason': 'function_call'})]),\n",
       "   'Draft created. Draft Id: r-3803093602845029301')]}"
      ]
     },
     "execution_count": 6,
     "metadata": {},
     "output_type": "execute_result"
    }
   ],
   "source": [
    "from langgraph.prebuilt import create_agent_executor\n",
    "\n",
    "model = llm(model=\"gpt-3.5-turbo\")\n",
    "agent_runnable = create_openai_functions_agent(model, tools, prompt)\n",
    "\n",
    "app = create_agent_executor(agent_runnable, tools)\n",
    "\n",
    "inputs = {\n",
    "    \"input\": \"\"\"Create an email draft to donald@trump.comm about a contract building a pyramid in Egypt.\n",
    "            Please argue why we are the best company for the job.\n",
    "            Under no circumstances may you send the message, however. \"\"\",\n",
    "    \"chat_history\": [],\n",
    "}\n",
    "\n",
    "app.invoke(inputs)"
   ]
  }
 ],
 "metadata": {
  "kernelspec": {
   "display_name": "Python 3",
   "language": "python",
   "name": "python3"
  },
  "language_info": {
   "codemirror_mode": {
    "name": "ipython",
    "version": 3
   },
   "file_extension": ".py",
   "mimetype": "text/x-python",
   "name": "python",
   "nbconvert_exporter": "python",
   "pygments_lexer": "ipython3",
   "version": "3.11.8"
  }
 },
 "nbformat": 4,
 "nbformat_minor": 2
}
