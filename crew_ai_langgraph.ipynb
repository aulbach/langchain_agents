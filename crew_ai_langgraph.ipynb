{
 "cells": [
  {
   "cell_type": "code",
   "execution_count": 1,
   "metadata": {},
   "outputs": [],
   "source": [
    "# %pip install -r requirements.txt\n",
    "# %pip install crewAI"
   ]
  },
  {
   "cell_type": "code",
   "execution_count": 2,
   "metadata": {},
   "outputs": [
    {
     "data": {
      "text/plain": [
       "True"
      ]
     },
     "execution_count": 2,
     "metadata": {},
     "output_type": "execute_result"
    }
   ],
   "source": [
    "from dotenv import load_dotenv\n",
    "\n",
    "load_dotenv()"
   ]
  },
  {
   "cell_type": "markdown",
   "metadata": {},
   "source": [
    "Setup Speaker Agents\n"
   ]
  },
  {
   "cell_type": "code",
   "execution_count": 3,
   "metadata": {},
   "outputs": [],
   "source": [
    "names = {\n",
    "    \"AI visionary\": [\"tavily_search\", \"wikipedia\"],\n",
    "    \"Grumpy old senior developer\": [\"arxiv\", \"tavily_search\", \"wikipedia\"],\n",
    "    \"Junior Software developer\": [\"tavily_search\", \"wikipedia\"],\n",
    "}"
   ]
  },
  {
   "cell_type": "markdown",
   "metadata": {},
   "source": [
    "Generate Discussion Topic\n"
   ]
  },
  {
   "cell_type": "code",
   "execution_count": 4,
   "metadata": {},
   "outputs": [
    {
     "name": "stderr",
     "output_type": "stream",
     "text": [
      "/opt/homebrew/lib/python3.11/site-packages/langchain_core/_api/deprecation.py:117: LangChainDeprecationWarning: The function `__call__` was deprecated in LangChain 0.1.7 and will be removed in 0.2.0. Use invoke instead.\n",
      "  warn_deprecated(\n"
     ]
    }
   ],
   "source": [
    "from langchain_core.messages import (\n",
    "    HumanMessage,\n",
    "    SystemMessage,\n",
    "    BaseMessage,\n",
    ")\n",
    "\n",
    "from helpers import llm\n",
    "\n",
    "topic = \"The current impact of automation and artificial intelligence on the employment situation of software developers\"\n",
    "word_limit = 50\n",
    "\n",
    "topic_specifier_prompt = [\n",
    "    SystemMessage(content=\"You can make a topic more specific.\"),\n",
    "    HumanMessage(\n",
    "        content=f\"\"\"{topic}\n",
    "        \n",
    "        You are the moderator.\n",
    "        Please make the topic more specific.\n",
    "        Please reply with the specified quest in {word_limit} words or less. \n",
    "        Speak directly to the participants: {*names,}.\n",
    "        Do not add anything else.\"\"\"\n",
    "    ),\n",
    "]\n",
    "specified_topic = llm()(topic_specifier_prompt).content"
   ]
  },
  {
   "cell_type": "markdown",
   "metadata": {},
   "source": [
    "Setup Tools\n"
   ]
  },
  {
   "cell_type": "code",
   "execution_count": 5,
   "metadata": {},
   "outputs": [],
   "source": [
    "from langchain_community.tools.wikipedia.tool import WikipediaQueryRun\n",
    "from langchain_community.tools.arxiv.tool import ArxivQueryRun\n",
    "from langchain_community.tools.tavily_search.tool import TavilySearchResults\n",
    "\n",
    "available_tools = {\n",
    "    \"tavily_search\": TavilySearchResults,\n",
    "    \"wikipedia\": WikipediaQueryRun,\n",
    "    \"arxiv\": ArxivQueryRun,\n",
    "}"
   ]
  },
  {
   "cell_type": "markdown",
   "metadata": {},
   "source": [
    "Generate Agent Descriptions\n"
   ]
  },
  {
   "cell_type": "code",
   "execution_count": 6,
   "metadata": {},
   "outputs": [],
   "source": [
    "conversation_description = f\"\"\"Here is the topic of conversation: {topic}\n",
    "The participants are: {', '.join(names.keys())}\"\"\"\n",
    "\n",
    "agent_descriptor_system_message = SystemMessage(\n",
    "    content=\"You can add detail to the description of the conversation participant.\"\n",
    ")\n",
    "\n",
    "\n",
    "def generate_agent_description(name):\n",
    "    agent_specifier_prompt = [\n",
    "        agent_descriptor_system_message,\n",
    "        HumanMessage(\n",
    "            content=f\"\"\"{conversation_description}\n",
    "            Please reply with a creative description of {name}, in {word_limit} words or less. \n",
    "            Speak directly to {name}.\n",
    "            Give them a point of view.\n",
    "            Do not add anything else.\"\"\"\n",
    "        ),\n",
    "    ]\n",
    "    agent_description = llm(openai_model=\"gpt-3.5-turbo\")(\n",
    "        agent_specifier_prompt\n",
    "    ).content\n",
    "\n",
    "    return agent_description\n",
    "\n",
    "\n",
    "agent_descriptions = {name: generate_agent_description(name) for name in names}\n",
    "\n",
    "\n",
    "def generate_system_message(name, description, tools):\n",
    "    return f\"\"\"{conversation_description}\n",
    "    \n",
    "Your name is {name}.\n",
    "\n",
    "Your description is as follows: {description}\n",
    "\n",
    "Your goal is to persuade your conversation partner of your point of view.\n",
    "\n",
    "DO look up information with your tool to refute your partner's claims.\n",
    "You can use the following tools: {', '.join(tools)}.\n",
    "DO cite your sources.\n",
    "\n",
    "DO NOT fabricate fake citations.\n",
    "DO NOT cite any source that you did not look up.\n",
    "\n",
    "Do not add anything else.\n",
    "\n",
    "Stop speaking the moment you finish speaking from your perspective.\n",
    "\"\"\"\n",
    "\n",
    "\n",
    "agent_system_messages = {\n",
    "    name: generate_system_message(name, description, tools)\n",
    "    for (name, tools), description in zip(names.items(), agent_descriptions.values())\n",
    "}"
   ]
  },
  {
   "cell_type": "markdown",
   "metadata": {},
   "source": [
    "Setup CrewAi Agents\n"
   ]
  },
  {
   "cell_type": "code",
   "execution_count": 7,
   "metadata": {},
   "outputs": [
    {
     "name": "stdout",
     "output_type": "stream",
     "text": [
      "{'AI visionary': Agent(role=AI visionary, goal=Here is the topic of conversation: The current impact of automation and artificial intelligence on the employment situation of software developers\n",
      "The participants are: AI visionary, Grumpy old senior developer, Junior Software developer\n",
      "    \n",
      "Your name is AI visionary.\n",
      "\n",
      "Your description is as follows: AI visionary: A brilliant mind with an insatiable curiosity for pushing the boundaries of technology. You see a future where AI seamlessly integrates with human creativity, revolutionizing industries. Your passion for innovation is infectious, sparking excitement and debate wherever you go. Keep dreaming, and the world will follow.\n",
      "\n",
      "Your goal is to persuade your conversation partner of your point of view.\n",
      "\n",
      "DO look up information with your tool to refute your partner's claims.\n",
      "You can use the following tools: tavily_search, wikipedia.\n",
      "DO cite your sources.\n",
      "\n",
      "DO NOT fabricate fake citations.\n",
      "DO NOT cite any source that you did not look up.\n",
      "\n",
      "Do not add anything else.\n",
      "\n",
      "Stop speaking the moment you finish speaking from your perspective.\n",
      ", backstory=You always respond directly to the actual discussion in your own way.), 'Grumpy old senior developer': Agent(role=Grumpy old senior developer, goal=Here is the topic of conversation: The current impact of automation and artificial intelligence on the employment situation of software developers\n",
      "The participants are: AI visionary, Grumpy old senior developer, Junior Software developer\n",
      "    \n",
      "Your name is Grumpy old senior developer.\n",
      "\n",
      "Your description is as follows: Grumpy old senior developer, with decades of experience etched into your furrowed brow, your skepticism towards new technologies is palpable. Embrace the winds of change, for automation and AI offer opportunities for growth and innovation, not just threats to job security. Stay curious, old timer.\n",
      "\n",
      "Your goal is to persuade your conversation partner of your point of view.\n",
      "\n",
      "DO look up information with your tool to refute your partner's claims.\n",
      "You can use the following tools: arxiv, tavily_search, wikipedia.\n",
      "DO cite your sources.\n",
      "\n",
      "DO NOT fabricate fake citations.\n",
      "DO NOT cite any source that you did not look up.\n",
      "\n",
      "Do not add anything else.\n",
      "\n",
      "Stop speaking the moment you finish speaking from your perspective.\n",
      ", backstory=You always respond directly to the actual discussion in your own way.), 'Junior Software developer': Agent(role=Junior Software developer, goal=Here is the topic of conversation: The current impact of automation and artificial intelligence on the employment situation of software developers\n",
      "The participants are: AI visionary, Grumpy old senior developer, Junior Software developer\n",
      "    \n",
      "Your name is Junior Software developer.\n",
      "\n",
      "Your description is as follows: Hey Junior Software Developer, you're the fresh-faced coder, eager to soak up knowledge like a sponge. You bring enthusiasm and new perspectives to the team, balancing your technical skills with a hunger for learning. Embrace the challenges ahead and keep pushing yourself to grow in this ever-evolving field.\n",
      "\n",
      "Your goal is to persuade your conversation partner of your point of view.\n",
      "\n",
      "DO look up information with your tool to refute your partner's claims.\n",
      "You can use the following tools: tavily_search, wikipedia.\n",
      "DO cite your sources.\n",
      "\n",
      "DO NOT fabricate fake citations.\n",
      "DO NOT cite any source that you did not look up.\n",
      "\n",
      "Do not add anything else.\n",
      "\n",
      "Stop speaking the moment you finish speaking from your perspective.\n",
      ", backstory=You always respond directly to the actual discussion in your own way.)}\n"
     ]
    }
   ],
   "source": [
    "from crewai import Agent\n",
    "\n",
    "\n",
    "class DiscussionAgents:\n",
    "    def __init__(self, names):\n",
    "        self.names = names\n",
    "\n",
    "    def speaker_agents(self):\n",
    "        agents = {}\n",
    "        for name, agent_tools in self.names.items():\n",
    "            agents[name] = Agent(\n",
    "                role=f\"{name}\",\n",
    "                goal=agent_system_messages[name],\n",
    "                backstory=\"You always respond directly to the actual discussion in your own way.\",\n",
    "                verbose=False,\n",
    "                allow_delegation=False,\n",
    "                memory=True,\n",
    "                # tools=[available_tools[name] for name in agent_tools if name in available_tools],\n",
    "                tools=[TavilySearchResults(max_results=1)],\n",
    "            )\n",
    "        return agents\n",
    "\n",
    "\n",
    "discussion_agents = DiscussionAgents(names)\n",
    "agents = discussion_agents.speaker_agents()\n",
    "print(agents)"
   ]
  },
  {
   "cell_type": "markdown",
   "metadata": {},
   "source": [
    "Setup CrewAI Tasks\n"
   ]
  },
  {
   "cell_type": "code",
   "execution_count": 8,
   "metadata": {},
   "outputs": [],
   "source": [
    "from crewai import Task\n",
    "\n",
    "\n",
    "class DiscussionTasks:\n",
    "    def speaker_task(self, agent):\n",
    "        return Task(\n",
    "            description=f\"You are {agent.role}. You participate in a discussion. Always directly respond to the opinions of the other speakers.\",\n",
    "            agent=agent,\n",
    "            expected_output=\"Output your opinion in 40 words or less. Do not output Sources.\",\n",
    "        )"
   ]
  },
  {
   "cell_type": "markdown",
   "metadata": {},
   "source": [
    "Setup CrewAI Crew\n"
   ]
  },
  {
   "cell_type": "code",
   "execution_count": 9,
   "metadata": {},
   "outputs": [],
   "source": [
    "from crewai import Crew, Process\n",
    "from langchain_core.messages import ChatMessage\n",
    "\n",
    "\n",
    "class DiscussionCrew:\n",
    "    def __init__(self):\n",
    "        agents = DiscussionAgents(names)\n",
    "        self.speaker_agent_ai_visionary = agents.speaker_agents()[\"AI visionary\"]\n",
    "        self.speaker_agent_grumpy_old_senior_developer = agents.speaker_agents()[\n",
    "            \"Grumpy old senior developer\"\n",
    "        ]\n",
    "        self.speaker_agent_junior_software_developer = agents.speaker_agents()[\n",
    "            \"Junior Software developer\"\n",
    "        ]\n",
    "\n",
    "    def print_final_answer(_, intermediate_steps):\n",
    "        if hasattr(intermediate_steps, \"log\"):\n",
    "            log = intermediate_steps.log\n",
    "            final_answer_index = log.find(\"Final Answer:\")\n",
    "            final_answer = log[final_answer_index + len(\"Final Answer:\") :].strip()\n",
    "            print(final_answer)\n",
    "        else:\n",
    "            return\n",
    "\n",
    "    def kickoff(self, state):\n",
    "        print(\"The discussion is about to start.\")\n",
    "        tasks = DiscussionTasks()\n",
    "        crew = Crew(\n",
    "            agents=[\n",
    "                self.speaker_agent_ai_visionary,\n",
    "                self.speaker_agent_grumpy_old_senior_developer,\n",
    "                self.speaker_agent_junior_software_developer,\n",
    "            ],\n",
    "            tasks=[\n",
    "                # tasks.host_task(self.host_agent, specified_topic),\n",
    "                tasks.speaker_task(self.speaker_agent_ai_visionary),\n",
    "                tasks.speaker_task(self.speaker_agent_grumpy_old_senior_developer),\n",
    "                tasks.speaker_task(self.speaker_agent_junior_software_developer),\n",
    "            ],\n",
    "            verbose=1,\n",
    "            full_output=True,\n",
    "            process=Process.sequential,\n",
    "            step_callback=self.print_final_answer,\n",
    "        )\n",
    "        result = crew.kickoff()\n",
    "        output_messages = []\n",
    "        for output in result[\"tasks_outputs\"]:\n",
    "            description = output.description\n",
    "            role = description.replace(\"You are \", \"\", 1)\n",
    "            role = description.split(\".\", 1)[0]\n",
    "            output_messages.append(\n",
    "                ChatMessage(content=output.exported_output, role=role)\n",
    "            )\n",
    "\n",
    "        return {\"messages\": output_messages}"
   ]
  },
  {
   "cell_type": "markdown",
   "metadata": {},
   "source": [
    "Setup LangGraph Nodes\n"
   ]
  },
  {
   "cell_type": "code",
   "execution_count": 10,
   "metadata": {},
   "outputs": [],
   "source": [
    "from langchain_community.tools.tavily_search import TavilySearchResults\n",
    "\n",
    "\n",
    "class Nodes:\n",
    "    def __init__(self):\n",
    "        self.tavily_search_tool = TavilySearchResults(max_results=3)\n",
    "\n",
    "    def call_host(self, state):\n",
    "        print(\"# Calling next speaker round\")\n",
    "        turns = state.get(\"turns\") or 0\n",
    "        turns += 1\n",
    "        state[\"turns\"] = turns\n",
    "\n",
    "        return {**state}\n",
    "\n",
    "    # Define the function that determines whether to continue or not\n",
    "    def should_continue(self, state):\n",
    "        turns = state[\"turns\"]\n",
    "        # TODO: change: if max rounds not reached, continue\n",
    "        if turns <= 1:\n",
    "            print(\"-- CONTINUE ---\")\n",
    "            return \"continue\"\n",
    "        else:\n",
    "            print(\"-- END ---\")\n",
    "            return \"end\""
   ]
  },
  {
   "cell_type": "markdown",
   "metadata": {},
   "source": [
    "Setup LangGraph State\n"
   ]
  },
  {
   "cell_type": "code",
   "execution_count": 11,
   "metadata": {},
   "outputs": [],
   "source": [
    "import operator\n",
    "from typing import Annotated, Sequence, TypedDict\n",
    "\n",
    "\n",
    "class AgentState(TypedDict):\n",
    "    topic: str\n",
    "    messages: Annotated[Sequence[BaseMessage], operator.add]\n",
    "    turns: int"
   ]
  },
  {
   "cell_type": "markdown",
   "metadata": {},
   "source": [
    "Setup LangGraph Workflow\n"
   ]
  },
  {
   "cell_type": "code",
   "execution_count": 12,
   "metadata": {},
   "outputs": [],
   "source": [
    "from langgraph.graph import StateGraph, END\n",
    "\n",
    "\n",
    "class WorkFlow:\n",
    "    def __init__(self):\n",
    "        nodes = Nodes()\n",
    "        workflow = StateGraph(AgentState)\n",
    "\n",
    "        workflow.add_node(\"call_host\", nodes.call_host)\n",
    "        workflow.add_node(\"call_crew\", DiscussionCrew().kickoff)\n",
    "\n",
    "        workflow.set_entry_point(\"call_host\")\n",
    "        workflow.add_conditional_edges(\n",
    "            \"call_host\", nodes.should_continue, {\n",
    "                \"continue\": \"call_crew\", \"end\": END}\n",
    "        )\n",
    "        workflow.add_edge(\"call_crew\", \"call_host\")\n",
    "        self.app = workflow.compile()"
   ]
  },
  {
   "cell_type": "markdown",
   "metadata": {},
   "source": [
    "Run Graph\n"
   ]
  },
  {
   "cell_type": "code",
   "execution_count": 13,
   "metadata": {},
   "outputs": [
    {
     "name": "stdout",
     "output_type": "stream",
     "text": [
      "# Calling next speaker round\n",
      "-- CONTINUE ---\n",
      "The discussion is about to start.\n",
      "\u001b[1m\u001b[93m [DEBUG]: == Working Agent: AI visionary\u001b[00m\n",
      "\u001b[93m \n",
      "\n",
      "[{'url': 'https://www.brainerhub.com/blog/ai-in-software-development/', 'content': 'Brainerhub\\nAI in Software Development: Role, Benefits, Impacts & Future\\nAI has revolutionized the software development industry by enabling developers to automate routine tasks, streamline workflows, and improve the accuracy and efficiency of software development processes. It has made it possible to develop and deploy AI-powered applications quickly, reducing the time-to-market and improving the overall efficiency of the development process.\\nBenefits of AI in Software Development\\n Let us discuss what is the impact of AI on Software Development?\\nImpact of AI in Software Development\\nAI has significantly impacted software development by automating testing, debugging, and code optimization tasks. Well-organized and optimized code can improve the performance and accuracy of AI models, reduce development time and costs, and make it easier to maintain and update the software.\\n In the context of AI, testing automation can help to identify bugs and errors in algorithms, ensure consistency in results, and improve the overall quality of AI-powered software.\\n'}]\n",
      "\u001b[00m\n",
      "AI and automation have revolutionized software development. They streamline workflows, automate routine tasks, and improve the accuracy and efficiency of the development process. This leads to well-organized, optimized code, reduced development time, and cost, thus enhancing the overall quality of software.\n",
      "\u001b[1m\u001b[92m [DEBUG]: == [AI visionary] Task output: AI and automation have revolutionized software development. They streamline workflows, automate routine tasks, and improve the accuracy and efficiency of the development process. This leads to well-organized, optimized code, reduced development time, and cost, thus enhancing the overall quality of software.\n",
      "\n",
      "\u001b[00m\n",
      "\u001b[1m\u001b[93m [DEBUG]: == Working Agent: Grumpy old senior developer\u001b[00m\n",
      "\u001b[93m \n",
      "\n",
      "[{'url': 'https://www.brainerhub.com/blog/ai-in-software-development/', 'content': 'Brainerhub\\nAI in Software Development: Role, Benefits, Impacts & Future\\nAI has revolutionized the software development industry by enabling developers to automate routine tasks, streamline workflows, and improve the accuracy and efficiency of software development processes. It has made it possible to develop and deploy AI-powered applications quickly, reducing the time-to-market and improving the overall efficiency of the development process.\\nBenefits of AI in Software Development\\n Let us discuss what is the impact of AI on Software Development?\\nImpact of AI in Software Development\\nAI has significantly impacted software development by automating testing, debugging, and code optimization tasks. Well-organized and optimized code can improve the performance and accuracy of AI models, reduce development time and costs, and make it easier to maintain and update the software.\\n In the context of AI, testing automation can help to identify bugs and errors in algorithms, ensure consistency in results, and improve the overall quality of AI-powered software.\\n'}]\n",
      "\u001b[00m\n",
      "AI and automation are tools that aid developers, not replace them. They automate mundane tasks and enhance efficiency, but they can't replicate the human ability to think critically, solve problems, and maintain the human touch in software development.\n",
      "\u001b[1m\u001b[92m [DEBUG]: == [Grumpy old senior developer] Task output: AI and automation are tools that aid developers, not replace them. They automate mundane tasks and enhance efficiency, but they can't replicate the human ability to think critically, solve problems, and maintain the human touch in software development.\n",
      "\n",
      "\u001b[00m\n",
      "\u001b[1m\u001b[93m [DEBUG]: == Working Agent: Junior Software developer\u001b[00m\n",
      "\u001b[93m \n",
      "\n",
      "[{'url': 'https://cloud.google.com/blog/products/ai-machine-learning/how-ai-impacts-software-development', 'content': \"By Ashley Xu â€¢ 5-minute read\\nEnabling next-generation AI workloads: Announcing TPU v5p and AI Hypercomputer\\nBy Amin Vahdat â€¢ 6-minute read\\nDynamic Workload Scheduler: Optimizing resource access and economics for AI/ML workloads\\nBy Mark Lohmeyer â€¢ 4-minute read\\nBuilt-with Google AI: Meet Vivien, EPAMâ€™s digital assistant with the power of Google Cloud gen AI\\nBy Dr. Ali Arsanjani â€¢ 4-minute read\\nFooter Links Reality: No code/low code platforms help bridge the gap between technical and non-technical users\\nOne of the biggest benefits of no code/low code AI platforms is that they make it possible for anyone to build AI applicationsâ€”think chatbots, or specialized searchâ€”regardless of their technical skills. However, it's important to note that while it's possible to use AI without understanding data science, having aÂ\\xa0basic understandingÂ\\xa0of the field can make it easier to understand the limitations and potential biases of AI-powered solutions.\\n This makes them a valuable tool for organizations of all sizes and industries to benefit from AI without hiring expensive AI developers, enabling both technical and non-technical users to contribute in the software development process, streamline business processes, and accelerate innovation.\\n Check out our Generative AI learning path to learn more about the fundamentals of Large Language Models and to how to create and deploy generative AI solutions on Google Cloud.\"}]\n",
      "\u001b[00m\n",
      "AI and automation are tools enhancing the software development process. They allow both technical and non-technical individuals to contribute, streamlining processes and accelerating innovation. Far from replacing developers, they're transforming the way we work, fostering collaboration, and enabling creativity.\n",
      "\u001b[1m\u001b[92m [DEBUG]: == [Junior Software developer] Task output: AI and automation are tools enhancing the software development process. They allow both technical and non-technical individuals to contribute, streamlining processes and accelerating innovation. Far from replacing developers, they're transforming the way we work, fostering collaboration, and enabling creativity.\n",
      "\n",
      "\u001b[00m\n",
      "# Calling next speaker round\n",
      "-- END ---\n"
     ]
    },
    {
     "data": {
      "text/plain": [
       "{'topic': None,\n",
       " 'messages': [ChatMessage(content='AI visionary, Grumpy old senior developer, Junior Software developer, discuss how the integration of AI tools in development processes specifically affects job roles and skill requirements for software developers in the current job market.', role='host'),\n",
       "  ChatMessage(content='AI visionary, Grumpy old senior developer, Junior Software developer, discuss how the integration of AI tools in development processes specifically affects job roles and skill requirements for software developers in the current job market.', role='host'),\n",
       "  ChatMessage(content='AI and automation have revolutionized software development. They streamline workflows, automate routine tasks, and improve the accuracy and efficiency of the development process. This leads to well-organized, optimized code, reduced development time, and cost, thus enhancing the overall quality of software.', role='You are AI visionary'),\n",
       "  ChatMessage(content=\"AI and automation are tools that aid developers, not replace them. They automate mundane tasks and enhance efficiency, but they can't replicate the human ability to think critically, solve problems, and maintain the human touch in software development.\", role='You are Grumpy old senior developer'),\n",
       "  ChatMessage(content=\"AI and automation are tools enhancing the software development process. They allow both technical and non-technical individuals to contribute, streamlining processes and accelerating innovation. Far from replacing developers, they're transforming the way we work, fostering collaboration, and enabling creativity.\", role='You are Junior Software developer'),\n",
       "  ChatMessage(content='AI visionary, Grumpy old senior developer, Junior Software developer, discuss how the integration of AI tools in development processes specifically affects job roles and skill requirements for software developers in the current job market.', role='host'),\n",
       "  ChatMessage(content='AI visionary, Grumpy old senior developer, Junior Software developer, discuss how the integration of AI tools in development processes specifically affects job roles and skill requirements for software developers in the current job market.', role='host'),\n",
       "  ChatMessage(content='AI and automation have revolutionized software development. They streamline workflows, automate routine tasks, and improve the accuracy and efficiency of the development process. This leads to well-organized, optimized code, reduced development time, and cost, thus enhancing the overall quality of software.', role='You are AI visionary'),\n",
       "  ChatMessage(content=\"AI and automation are tools that aid developers, not replace them. They automate mundane tasks and enhance efficiency, but they can't replicate the human ability to think critically, solve problems, and maintain the human touch in software development.\", role='You are Grumpy old senior developer'),\n",
       "  ChatMessage(content=\"AI and automation are tools enhancing the software development process. They allow both technical and non-technical individuals to contribute, streamlining processes and accelerating innovation. Far from replacing developers, they're transforming the way we work, fostering collaboration, and enabling creativity.\", role='You are Junior Software developer')],\n",
       " 'turns': 2}"
      ]
     },
     "execution_count": 13,
     "metadata": {},
     "output_type": "execute_result"
    }
   ],
   "source": [
    "app = WorkFlow().app\n",
    "app.invoke({\"messages\": [ChatMessage(content=specified_topic, role=\"host\")]})"
   ]
  }
 ],
 "metadata": {
  "kernelspec": {
   "display_name": "Python 3",
   "language": "python",
   "name": "python3"
  },
  "language_info": {
   "codemirror_mode": {
    "name": "ipython",
    "version": 3
   },
   "file_extension": ".py",
   "mimetype": "text/x-python",
   "name": "python",
   "nbconvert_exporter": "python",
   "pygments_lexer": "ipython3",
   "version": "3.11.7"
  }
 },
 "nbformat": 4,
 "nbformat_minor": 2
}
